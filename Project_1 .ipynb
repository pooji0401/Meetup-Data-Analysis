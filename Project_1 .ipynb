{
 "cells": [
  {
   "cell_type": "markdown",
   "metadata": {},
   "source": [
    "## A. Introduction \n",
    "\n",
    "### Problem Statement\n",
    "\n",
    "Meetup is an organizing tool for a variety of activities including hobbies, work-oriented programs and other fun/social activities. Rather than a tool, it is known as one of the most popular social networking websites in today’s world. In addition to getting people connected virtually through the application, Meetup has greatly helped in connecting people with similar interests in the same location. It is a resourceful platform, that is letting people develop their network by exploring, teaching and learning new aspects. Apart from being a mere participant, this application lets people organize and publicize their events and develop their own groups.\n",
    "\n",
    "As of 2017, Meetup.com has over 32 million users with nearly 300,000 groups across 182 countries. Within each geographic location, there are an umpteen number of groups, each offering a broad range of topics. This way, it is a very easy and accessible application that will let a user discover groups with coherent interests.\n",
    "\n",
    "\n",
    "## Questions answered using this analysis\n",
    "\n",
    "1. How has Meetup.com’s <span style=\"color: #ce31bc;\">popularity</span> changed over time?\n",
    "2. How does event popularity vary by <span style=\"color: #ce31bc;\">different features</span>?\n",
    "3. What <span style=\"color: #ce31bc;\">topics/categories</span> are popular in each city? What can we learn about the crowd in each city?\n",
    "4. How do <span style=\"color: #ce31bc;\">member interests</span> relate to other member interests?\n",
    "\n",
    "\n",
    "\n",
    "### Dataset Description\n",
    "\n",
    "<ul>\n",
    "    <li>Sourced from <a href=\"https://www.kaggle.com/sirpunch/meetups-data-from-meetupcom/home\">Meetup.com Kaggle competition</a></li>\n",
    "    <li>Contains 9 separate CSVs (categories, cities, groups, topics, venues, etc.)</li>\n",
    "    <li>Contains details for over 5800 events in Chicago, New York, and San Francisco</li>\n",
    "</ul>\n"
   ]
  },
  {
   "cell_type": "markdown",
   "metadata": {},
   "source": [
    "##  B. Data Importing\n",
    "### Importing all the necessary packages "
   ]
  },
  {
   "cell_type": "code",
   "execution_count": 82,
   "metadata": {},
   "outputs": [],
   "source": [
    "import pandas as pd\n",
    "import numpy as np\n",
    "import seaborn as sns\n",
    "from matplotlib import pyplot as plt"
   ]
  },
  {
   "cell_type": "markdown",
   "metadata": {},
   "source": [
    "### Reading data into dataframes"
   ]
  },
  {
   "cell_type": "code",
   "execution_count": 83,
   "metadata": {},
   "outputs": [],
   "source": [
    "df_events = pd.read_csv('data/events.csv')\n",
    "df_categories = pd.read_csv('data/categories.csv')\n",
    "df_cities = pd.read_csv('data/cities.csv')\n",
    "df_groups = pd.read_csv('data/groups.csv')\n",
    "df_group_topics = pd.read_csv('data/groups_topics.csv',encoding='latin-1')\n",
    "df_members = pd.read_csv('data/members.csv',encoding='latin-1')"
   ]
  },
  {
   "cell_type": "code",
   "execution_count": 84,
   "metadata": {},
   "outputs": [],
   "source": [
    "df_member_topics = pd.read_csv('data/members_topics.csv',encoding='latin-1')\n",
    "df_topics = pd.read_csv('data/topics.csv',encoding='latin-1')\n",
    "df_venues = pd.read_csv('data/venues.csv',encoding='latin-1')"
   ]
  },
  {
   "cell_type": "markdown",
   "metadata": {},
   "source": [
    "## C. Data Cleaning "
   ]
  },
  {
   "cell_type": "markdown",
   "metadata": {},
   "source": [
    "#### City Cleaning:\n",
    "Since there are many sublevels for each city, we merged them so that there are only 3 cities in total"
   ]
  },
  {
   "cell_type": "code",
   "execution_count": 85,
   "metadata": {},
   "outputs": [
    {
     "data": {
      "text/plain": [
       "array(['West New York', 'New York', 'New York Mills', 'East Chicago',\n",
       "       'North Chicago', 'West Chicago', 'Chicago Heights',\n",
       "       'Chicago Ridge', 'Chicago', 'South San Francisco', 'San Francisco',\n",
       "       'Chicago Park'], dtype=object)"
      ]
     },
     "execution_count": 85,
     "metadata": {},
     "output_type": "execute_result"
    }
   ],
   "source": [
    "df_cities['city'].unique()"
   ]
  },
  {
   "cell_type": "code",
   "execution_count": 86,
   "metadata": {},
   "outputs": [],
   "source": [
    "def city_clean(x):\n",
    "    if 'New York' in x:\n",
    "        x='New York'\n",
    "    elif 'Chicago' in x:\n",
    "        x='Chicago'\n",
    "    else:\n",
    "        x='San Francisco'\n",
    "    return x"
   ]
  },
  {
   "cell_type": "code",
   "execution_count": 87,
   "metadata": {},
   "outputs": [],
   "source": [
    "df_cities['city']=df_cities['city'].apply(lambda x:city_clean(x))\n",
    "df_groups['city'] = df_groups['city'].apply(lambda x:city_clean(x))\n",
    "df_members['city']=df_members['city'].apply(lambda x:city_clean(x))"
   ]
  },
  {
   "cell_type": "code",
   "execution_count": 88,
   "metadata": {},
   "outputs": [],
   "source": [
    "## Remove all outlier coordinates"
   ]
  },
  {
   "cell_type": "markdown",
   "metadata": {},
   "source": [
    "## D. Analysis \n",
    "### 1. Trends in growth rate for Meetup\n",
    "#### 1.1 Growth rate in terms of the number of new groups added every year "
   ]
  },
  {
   "cell_type": "code",
   "execution_count": 89,
   "metadata": {},
   "outputs": [],
   "source": [
    "## Extracting the year\n",
    "df_groups['year']=df_groups['created'].apply(lambda x: int(str(x).split('-')[0]))"
   ]
  },
  {
   "cell_type": "code",
   "execution_count": 90,
   "metadata": {},
   "outputs": [
    {
     "data": {
      "text/html": [
       "<div>\n",
       "<style scoped>\n",
       "    .dataframe tbody tr th:only-of-type {\n",
       "        vertical-align: middle;\n",
       "    }\n",
       "\n",
       "    .dataframe tbody tr th {\n",
       "        vertical-align: top;\n",
       "    }\n",
       "\n",
       "    .dataframe thead th {\n",
       "        text-align: right;\n",
       "    }\n",
       "</style>\n",
       "<table border=\"1\" class=\"dataframe\">\n",
       "  <thead>\n",
       "    <tr style=\"text-align: right;\">\n",
       "      <th>year</th>\n",
       "      <th>2002</th>\n",
       "      <th>2003</th>\n",
       "      <th>2004</th>\n",
       "      <th>2005</th>\n",
       "      <th>2006</th>\n",
       "      <th>2007</th>\n",
       "      <th>2008</th>\n",
       "      <th>2009</th>\n",
       "      <th>2010</th>\n",
       "      <th>2011</th>\n",
       "      <th>2012</th>\n",
       "      <th>2013</th>\n",
       "      <th>2014</th>\n",
       "      <th>2015</th>\n",
       "      <th>2016</th>\n",
       "      <th>2017</th>\n",
       "    </tr>\n",
       "    <tr>\n",
       "      <th>city</th>\n",
       "      <th></th>\n",
       "      <th></th>\n",
       "      <th></th>\n",
       "      <th></th>\n",
       "      <th></th>\n",
       "      <th></th>\n",
       "      <th></th>\n",
       "      <th></th>\n",
       "      <th></th>\n",
       "      <th></th>\n",
       "      <th></th>\n",
       "      <th></th>\n",
       "      <th></th>\n",
       "      <th></th>\n",
       "      <th></th>\n",
       "      <th></th>\n",
       "    </tr>\n",
       "  </thead>\n",
       "  <tbody>\n",
       "    <tr>\n",
       "      <th>Chicago</th>\n",
       "      <td>9</td>\n",
       "      <td>28</td>\n",
       "      <td>6</td>\n",
       "      <td>10</td>\n",
       "      <td>56</td>\n",
       "      <td>75</td>\n",
       "      <td>60</td>\n",
       "      <td>90</td>\n",
       "      <td>121</td>\n",
       "      <td>106</td>\n",
       "      <td>198</td>\n",
       "      <td>180</td>\n",
       "      <td>272</td>\n",
       "      <td>373</td>\n",
       "      <td>562</td>\n",
       "      <td>1034</td>\n",
       "    </tr>\n",
       "    <tr>\n",
       "      <th>New York</th>\n",
       "      <td>49</td>\n",
       "      <td>70</td>\n",
       "      <td>20</td>\n",
       "      <td>39</td>\n",
       "      <td>175</td>\n",
       "      <td>217</td>\n",
       "      <td>242</td>\n",
       "      <td>292</td>\n",
       "      <td>273</td>\n",
       "      <td>403</td>\n",
       "      <td>511</td>\n",
       "      <td>614</td>\n",
       "      <td>778</td>\n",
       "      <td>973</td>\n",
       "      <td>1451</td>\n",
       "      <td>2469</td>\n",
       "    </tr>\n",
       "    <tr>\n",
       "      <th>San Francisco</th>\n",
       "      <td>7</td>\n",
       "      <td>9</td>\n",
       "      <td>3</td>\n",
       "      <td>2</td>\n",
       "      <td>36</td>\n",
       "      <td>62</td>\n",
       "      <td>111</td>\n",
       "      <td>126</td>\n",
       "      <td>147</td>\n",
       "      <td>211</td>\n",
       "      <td>275</td>\n",
       "      <td>357</td>\n",
       "      <td>478</td>\n",
       "      <td>632</td>\n",
       "      <td>793</td>\n",
       "      <td>1325</td>\n",
       "    </tr>\n",
       "  </tbody>\n",
       "</table>\n",
       "</div>"
      ],
      "text/plain": [
       "year           2002  2003  2004  2005  2006  2007  2008  2009  2010  2011  \\\n",
       "city                                                                        \n",
       "Chicago           9    28     6    10    56    75    60    90   121   106   \n",
       "New York         49    70    20    39   175   217   242   292   273   403   \n",
       "San Francisco     7     9     3     2    36    62   111   126   147   211   \n",
       "\n",
       "year           2012  2013  2014  2015  2016  2017  \n",
       "city                                               \n",
       "Chicago         198   180   272   373   562  1034  \n",
       "New York        511   614   778   973  1451  2469  \n",
       "San Francisco   275   357   478   632   793  1325  "
      ]
     },
     "execution_count": 90,
     "metadata": {},
     "output_type": "execute_result"
    }
   ],
   "source": [
    "## Pivot Table to summarise the number of groups adding every year\n",
    "df_groups_pivot = df_groups.pivot_table(values='group_id',index='city',\n",
    "                                           columns='year',aggfunc=len)\n",
    "df_groups_pivot"
   ]
  },
  {
   "cell_type": "code",
   "execution_count": 91,
   "metadata": {},
   "outputs": [
    {
     "data": {
      "text/plain": [
       "<matplotlib.axes._subplots.AxesSubplot at 0x27e03a28080>"
      ]
     },
     "execution_count": 91,
     "metadata": {},
     "output_type": "execute_result"
    },
    {
     "data": {
      "image/png": "[encoded data removed]",
      "text/plain": [
       "<Figure size 864x576 with 2 Axes>"
      ]
     },
     "metadata": {},
     "output_type": "display_data"
    }
   ],
   "source": [
    "plt.figure(figsize=(12,8))\n",
    "plt.title(\"Growth in the number of groups across each city\")\n",
    "sns.heatmap(df_groups_pivot,cmap=\"YlGnBu\")"
   ]
  },
  {
   "cell_type": "code",
   "execution_count": 92,
   "metadata": {},
   "outputs": [],
   "source": [
    "df_groups_pivot.to_csv('groups_trend.csv')"
   ]
  },
  {
   "cell_type": "markdown",
   "metadata": {},
   "source": [
    "#### 1.2 Growth rate in terms of the new members joining each year\n",
    "In the members dataframe, there will be multiple entries for the same member who is a part of multiple groups. This is because the memberID along with the Group ID is used a dataframe. \n",
    "\n",
    "Therefore, inorder to find the unique number of members joined in a particular year,\n",
    "1. Members dataframe was grouped\n",
    "2. Each group was sorted based on the join date ( in ascending order).\n",
    "3. The first record in every group object was obtained to find actual join date for every member.\n",
    "4. The year of joining was extracted from these records"
   ]
  },
  {
   "cell_type": "code",
   "execution_count": 93,
   "metadata": {},
   "outputs": [],
   "source": [
    "## Year Extraction\n",
    "df_members['year_joined']=df_members['joined'].apply(lambda x: int(str(x).split('-')[0]))"
   ]
  },
  {
   "cell_type": "code",
   "execution_count": 94,
   "metadata": {},
   "outputs": [
    {
     "data": {
      "text/plain": [
       "1087923"
      ]
     },
     "execution_count": 94,
     "metadata": {},
     "output_type": "execute_result"
    }
   ],
   "source": [
    "len(df_members['member_id'].unique())"
   ]
  },
  {
   "cell_type": "code",
   "execution_count": 95,
   "metadata": {},
   "outputs": [],
   "source": [
    "## Grouping by memberId and sorting the group object and extracting the first record from the sorted group\n",
    "df_unique_members = df_members.sort_values('joined').groupby(by=['member_id']).head(1)"
   ]
  },
  {
   "cell_type": "code",
   "execution_count": 96,
   "metadata": {},
   "outputs": [
    {
     "data": {
      "text/html": [
       "<div>\n",
       "<style scoped>\n",
       "    .dataframe tbody tr th:only-of-type {\n",
       "        vertical-align: middle;\n",
       "    }\n",
       "\n",
       "    .dataframe tbody tr th {\n",
       "        vertical-align: top;\n",
       "    }\n",
       "\n",
       "    .dataframe thead th {\n",
       "        text-align: right;\n",
       "    }\n",
       "</style>\n",
       "<table border=\"1\" class=\"dataframe\">\n",
       "  <thead>\n",
       "    <tr style=\"text-align: right;\">\n",
       "      <th>year_joined</th>\n",
       "      <th>2002</th>\n",
       "      <th>2003</th>\n",
       "      <th>2004</th>\n",
       "      <th>2005</th>\n",
       "      <th>2006</th>\n",
       "      <th>2007</th>\n",
       "      <th>2008</th>\n",
       "      <th>2009</th>\n",
       "      <th>2010</th>\n",
       "      <th>2011</th>\n",
       "      <th>2012</th>\n",
       "      <th>2013</th>\n",
       "      <th>2014</th>\n",
       "      <th>2015</th>\n",
       "      <th>2016</th>\n",
       "      <th>2017</th>\n",
       "    </tr>\n",
       "    <tr>\n",
       "      <th>city</th>\n",
       "      <th></th>\n",
       "      <th></th>\n",
       "      <th></th>\n",
       "      <th></th>\n",
       "      <th></th>\n",
       "      <th></th>\n",
       "      <th></th>\n",
       "      <th></th>\n",
       "      <th></th>\n",
       "      <th></th>\n",
       "      <th></th>\n",
       "      <th></th>\n",
       "      <th></th>\n",
       "      <th></th>\n",
       "      <th></th>\n",
       "      <th></th>\n",
       "    </tr>\n",
       "  </thead>\n",
       "  <tbody>\n",
       "    <tr>\n",
       "      <th>Chicago</th>\n",
       "      <td>5</td>\n",
       "      <td>175</td>\n",
       "      <td>269</td>\n",
       "      <td>375</td>\n",
       "      <td>1426</td>\n",
       "      <td>2449</td>\n",
       "      <td>4001</td>\n",
       "      <td>6287</td>\n",
       "      <td>7819</td>\n",
       "      <td>10382</td>\n",
       "      <td>17897</td>\n",
       "      <td>24734</td>\n",
       "      <td>28331</td>\n",
       "      <td>38834</td>\n",
       "      <td>45266</td>\n",
       "      <td>47800</td>\n",
       "    </tr>\n",
       "    <tr>\n",
       "      <th>New York</th>\n",
       "      <td>52</td>\n",
       "      <td>1784</td>\n",
       "      <td>1166</td>\n",
       "      <td>1149</td>\n",
       "      <td>4202</td>\n",
       "      <td>8491</td>\n",
       "      <td>12792</td>\n",
       "      <td>21343</td>\n",
       "      <td>24480</td>\n",
       "      <td>33941</td>\n",
       "      <td>49630</td>\n",
       "      <td>64129</td>\n",
       "      <td>71621</td>\n",
       "      <td>83353</td>\n",
       "      <td>92010</td>\n",
       "      <td>110741</td>\n",
       "    </tr>\n",
       "    <tr>\n",
       "      <th>San Francisco</th>\n",
       "      <td>8</td>\n",
       "      <td>84</td>\n",
       "      <td>109</td>\n",
       "      <td>229</td>\n",
       "      <td>833</td>\n",
       "      <td>2743</td>\n",
       "      <td>4039</td>\n",
       "      <td>6624</td>\n",
       "      <td>8727</td>\n",
       "      <td>13008</td>\n",
       "      <td>22226</td>\n",
       "      <td>30607</td>\n",
       "      <td>37120</td>\n",
       "      <td>44850</td>\n",
       "      <td>47847</td>\n",
       "      <td>51935</td>\n",
       "    </tr>\n",
       "  </tbody>\n",
       "</table>\n",
       "</div>"
      ],
      "text/plain": [
       "year_joined    2002  2003  2004  2005  2006  2007   2008   2009   2010   2011  \\\n",
       "city                                                                            \n",
       "Chicago           5   175   269   375  1426  2449   4001   6287   7819  10382   \n",
       "New York         52  1784  1166  1149  4202  8491  12792  21343  24480  33941   \n",
       "San Francisco     8    84   109   229   833  2743   4039   6624   8727  13008   \n",
       "\n",
       "year_joined     2012   2013   2014   2015   2016    2017  \n",
       "city                                                      \n",
       "Chicago        17897  24734  28331  38834  45266   47800  \n",
       "New York       49630  64129  71621  83353  92010  110741  \n",
       "San Francisco  22226  30607  37120  44850  47847   51935  "
      ]
     },
     "execution_count": 96,
     "metadata": {},
     "output_type": "execute_result"
    }
   ],
   "source": [
    "## Pivot Table to summarise the number of members joining every year\n",
    "df_members_pivot = df_unique_members.pivot_table(values='member_id',index='city',\n",
    "                                           columns='year_joined',aggfunc=len)\n",
    "df_members_pivot"
   ]
  },
  {
   "cell_type": "code",
   "execution_count": 97,
   "metadata": {},
   "outputs": [
    {
     "data": {
      "text/plain": [
       "<matplotlib.legend.Legend at 0x27d5db4d2e8>"
      ]
     },
     "execution_count": 97,
     "metadata": {},
     "output_type": "execute_result"
    },
    {
     "data": {
      "image/png": "[encoded data removed]",
      "text/plain": [
       "<Figure size 864x576 with 1 Axes>"
      ]
     },
     "metadata": {},
     "output_type": "display_data"
    }
   ],
   "source": [
    "## Line plot depicting the member growth rate across each city\n",
    "plt.figure(figsize=(12,8))\n",
    "plt.plot(df_members_pivot.columns,df_members_pivot.loc['Chicago'])\n",
    "plt.plot(df_members_pivot.columns,df_members_pivot.loc['New York'])\n",
    "plt.plot(df_members_pivot.columns,df_members_pivot.loc['San Francisco'])\n",
    "plt.title('Growth in the Members across years')\n",
    "plt.legend()"
   ]
  },
  {
   "cell_type": "code",
   "execution_count": 98,
   "metadata": {},
   "outputs": [
    {
     "data": {
      "text/plain": [
       "<matplotlib.axes._subplots.AxesSubplot at 0x27d85f0afd0>"
      ]
     },
     "execution_count": 98,
     "metadata": {},
     "output_type": "execute_result"
    },
    {
     "data": {
      "image/png": "[encoded data removed]",
      "text/plain": [
       "<Figure size 864x576 with 2 Axes>"
      ]
     },
     "metadata": {},
     "output_type": "display_data"
    }
   ],
   "source": [
    "## Heatmap depicting the member growth rate across each city \n",
    "plt.figure(figsize=(12,8))\n",
    "plt.title(\"Growth rate for members across each city\")\n",
    "sns.heatmap(df_members_pivot)"
   ]
  },
  {
   "cell_type": "code",
   "execution_count": 99,
   "metadata": {},
   "outputs": [],
   "source": [
    "df_members_pivot.to_csv('members_pivot.csv')"
   ]
  },
  {
   "cell_type": "markdown",
   "metadata": {},
   "source": [
    "### 2. Events Popularity\n",
    "\n",
    "The first question of interest being 'Event Popularity', we wanted to check for popular events. The popularity of each event was assesed based on the number of people who RSVPd for the event and the total number of people in that group. \n",
    "\n",
    "Event popularity score is defined to be the ratio of number of people who RSVPd for the event and the count of members in that group.\n",
    "\n",
    "Inorder to get these two columns in the same dataframe, events table was merged with the groups table on GroupID."
   ]
  },
  {
   "cell_type": "code",
   "execution_count": 100,
   "metadata": {},
   "outputs": [],
   "source": [
    "df_events_groups= df_events.join(df_groups,lsuffix='_events', rsuffix='_groups')"
   ]
  },
  {
   "cell_type": "code",
   "execution_count": 101,
   "metadata": {},
   "outputs": [
    {
     "data": {
      "text/plain": [
       "Index(['event_id', 'created', 'description', 'duration', 'event_url',\n",
       "       'fee.accepts', 'fee.amount', 'fee.currency', 'fee.description',\n",
       "       'fee.label', 'fee.required', 'group.created', 'group.group_lat',\n",
       "       'group.group_lon', 'group_id', 'group.join_mode', 'group.name',\n",
       "       'group.urlname', 'group.who', 'headcount', 'how_to_find_us',\n",
       "       'maybe_rsvp_count', 'event_name', 'photo_url', 'rating.average',\n",
       "       'rating.count', 'rsvp_limit', 'event_status', 'event_time', 'updated',\n",
       "       'utc_offset', 'venue.address_1', 'venue.address_2', 'venue.city',\n",
       "       'venue.country', 'venue_id', 'venue.lat',\n",
       "       'venue.localized_country_name', 'venue.lon', 'venue.name',\n",
       "       'venue.phone', 'venue.repinned', 'venue.state', 'venue.zip',\n",
       "       'visibility', 'waitlist_count', 'why', 'yes_rsvp_count'],\n",
       "      dtype='object')"
      ]
     },
     "execution_count": 101,
     "metadata": {},
     "output_type": "execute_result"
    }
   ],
   "source": [
    "df_events.columns"
   ]
  },
  {
   "cell_type": "code",
   "execution_count": 102,
   "metadata": {},
   "outputs": [
    {
     "data": {
      "text/plain": [
       "Index(['event_id', 'created_events', 'description_events', 'duration',\n",
       "       'event_url', 'fee.accepts', 'fee.amount', 'fee.currency',\n",
       "       'fee.description', 'fee.label', 'fee.required', 'group.created',\n",
       "       'group.group_lat', 'group.group_lon', 'group_id_events',\n",
       "       'group.join_mode', 'group.name', 'group.urlname', 'group.who',\n",
       "       'headcount', 'how_to_find_us', 'maybe_rsvp_count', 'event_name',\n",
       "       'photo_url', 'rating.average', 'rating.count', 'rsvp_limit',\n",
       "       'event_status', 'event_time', 'updated', 'utc_offset_events',\n",
       "       'venue.address_1', 'venue.address_2', 'venue.city', 'venue.country',\n",
       "       'venue_id', 'venue.lat', 'venue.localized_country_name', 'venue.lon',\n",
       "       'venue.name', 'venue.phone', 'venue.repinned', 'venue.state',\n",
       "       'venue.zip', 'visibility_events', 'waitlist_count', 'why',\n",
       "       'yes_rsvp_count', 'group_id_groups', 'category_id', 'category.name',\n",
       "       'category.shortname', 'city_id', 'city', 'country', 'created_groups',\n",
       "       'description_groups', 'group_photo.base_url',\n",
       "       'group_photo.highres_link', 'group_photo.photo_id',\n",
       "       'group_photo.photo_link', 'group_photo.thumb_link', 'group_photo.type',\n",
       "       'join_mode', 'lat', 'link', 'lon', 'members', 'group_name',\n",
       "       'organizer.member_id', 'organizer.name', 'organizer.photo.base_url',\n",
       "       'organizer.photo.highres_link', 'organizer.photo.photo_id',\n",
       "       'organizer.photo.photo_link', 'organizer.photo.thumb_link',\n",
       "       'organizer.photo.type', 'rating', 'state', 'timezone', 'urlname',\n",
       "       'utc_offset_groups', 'visibility_groups', 'who', 'year'],\n",
       "      dtype='object')"
      ]
     },
     "execution_count": 102,
     "metadata": {},
     "output_type": "execute_result"
    }
   ],
   "source": [
    "df_events_groups.columns"
   ]
  },
  {
   "cell_type": "markdown",
   "metadata": {},
   "source": [
    " Choosing a subset of necessary columns "
   ]
  },
  {
   "cell_type": "code",
   "execution_count": 103,
   "metadata": {},
   "outputs": [],
   "source": [
    "df_events_subset = df_events_groups[['event_id','duration','description_events','event_url','fee.accepts','fee.required',\n",
    "'event_time','yes_rsvp_count','members','rating','group_id_groups','utc_offset_events','category.shortname','city','venue.lat'\n",
    "                                    ,'venue.lon','venue_id','join_mode']]"
   ]
  },
  {
   "cell_type": "code",
   "execution_count": 104,
   "metadata": {},
   "outputs": [
    {
     "data": {
      "text/html": [
       "<div>\n",
       "<style scoped>\n",
       "    .dataframe tbody tr th:only-of-type {\n",
       "        vertical-align: middle;\n",
       "    }\n",
       "\n",
       "    .dataframe tbody tr th {\n",
       "        vertical-align: top;\n",
       "    }\n",
       "\n",
       "    .dataframe thead th {\n",
       "        text-align: right;\n",
       "    }\n",
       "</style>\n",
       "<table border=\"1\" class=\"dataframe\">\n",
       "  <thead>\n",
       "    <tr style=\"text-align: right;\">\n",
       "      <th></th>\n",
       "      <th>event_id</th>\n",
       "      <th>duration</th>\n",
       "      <th>description_events</th>\n",
       "      <th>event_url</th>\n",
       "      <th>fee.accepts</th>\n",
       "      <th>fee.required</th>\n",
       "      <th>event_time</th>\n",
       "      <th>yes_rsvp_count</th>\n",
       "      <th>members</th>\n",
       "      <th>rating</th>\n",
       "      <th>group_id_groups</th>\n",
       "      <th>utc_offset_events</th>\n",
       "      <th>category.shortname</th>\n",
       "      <th>city</th>\n",
       "      <th>venue.lat</th>\n",
       "      <th>venue.lon</th>\n",
       "      <th>venue_id</th>\n",
       "      <th>join_mode</th>\n",
       "    </tr>\n",
       "  </thead>\n",
       "  <tbody>\n",
       "    <tr>\n",
       "      <th>0</th>\n",
       "      <td>153868222</td>\n",
       "      <td>20700</td>\n",
       "      <td>Solve the murder case while eating a 3 course ...</td>\n",
       "      <td>https://www.meetup.com/SanFranciscoStartupFun/...</td>\n",
       "      <td>others</td>\n",
       "      <td>0</td>\n",
       "      <td>2017-10-30 02:30:00</td>\n",
       "      <td>72</td>\n",
       "      <td>1440</td>\n",
       "      <td>4.39</td>\n",
       "      <td>6388</td>\n",
       "      <td>-25200</td>\n",
       "      <td>health-wellbeing</td>\n",
       "      <td>New York</td>\n",
       "      <td>37.797950</td>\n",
       "      <td>-122.405690</td>\n",
       "      <td>23729697</td>\n",
       "      <td>open</td>\n",
       "    </tr>\n",
       "    <tr>\n",
       "      <th>1</th>\n",
       "      <td>184167702</td>\n",
       "      <td>77400</td>\n",
       "      <td>NOTE: This event is EVERY FRIDAY!! Signup is a...</td>\n",
       "      <td>https://www.meetup.com/hr-and-tech-sf/events/1...</td>\n",
       "      <td>others</td>\n",
       "      <td>0</td>\n",
       "      <td>2017-10-28 04:00:00</td>\n",
       "      <td>179</td>\n",
       "      <td>969</td>\n",
       "      <td>4.31</td>\n",
       "      <td>6510</td>\n",
       "      <td>-25200</td>\n",
       "      <td>community-environment</td>\n",
       "      <td>New York</td>\n",
       "      <td>37.798172</td>\n",
       "      <td>-122.405457</td>\n",
       "      <td>16948982</td>\n",
       "      <td>open</td>\n",
       "    </tr>\n",
       "    <tr>\n",
       "      <th>2</th>\n",
       "      <td>215200502</td>\n",
       "      <td>37800</td>\n",
       "      <td>We'll be heading out with a group of travelers...</td>\n",
       "      <td>https://www.meetup.com/hr-and-tech-sf/events/2...</td>\n",
       "      <td>others</td>\n",
       "      <td>0</td>\n",
       "      <td>2017-10-27 03:00:00</td>\n",
       "      <td>45</td>\n",
       "      <td>2930</td>\n",
       "      <td>4.84</td>\n",
       "      <td>8458</td>\n",
       "      <td>-25200</td>\n",
       "      <td>pets-animals</td>\n",
       "      <td>New York</td>\n",
       "      <td>37.797516</td>\n",
       "      <td>-122.407394</td>\n",
       "      <td>24717469</td>\n",
       "      <td>open</td>\n",
       "    </tr>\n",
       "    <tr>\n",
       "      <th>3</th>\n",
       "      <td>220826782</td>\n",
       "      <td>113400</td>\n",
       "      <td>NOTE: This event is EVERY FRIDAY!! Signup is a...</td>\n",
       "      <td>https://www.meetup.com/SanFranciscoStartupFun/...</td>\n",
       "      <td>others</td>\n",
       "      <td>0</td>\n",
       "      <td>2017-10-28 04:00:00</td>\n",
       "      <td>198</td>\n",
       "      <td>5080</td>\n",
       "      <td>4.46</td>\n",
       "      <td>8940</td>\n",
       "      <td>-25200</td>\n",
       "      <td>sci-fi-fantasy</td>\n",
       "      <td>New York</td>\n",
       "      <td>37.798036</td>\n",
       "      <td>-122.405442</td>\n",
       "      <td>724783</td>\n",
       "      <td>open</td>\n",
       "    </tr>\n",
       "    <tr>\n",
       "      <th>4</th>\n",
       "      <td>227948102</td>\n",
       "      <td>36000</td>\n",
       "      <td>Aussie Aussie Aussie, Oi Oi Oi! Join us for th...</td>\n",
       "      <td>https://www.meetup.com/hr-and-tech-sf/events/2...</td>\n",
       "      <td>others</td>\n",
       "      <td>0</td>\n",
       "      <td>2018-01-26 01:00:00</td>\n",
       "      <td>24</td>\n",
       "      <td>2097</td>\n",
       "      <td>4.09</td>\n",
       "      <td>10104</td>\n",
       "      <td>-28800</td>\n",
       "      <td>pets-animals</td>\n",
       "      <td>New York</td>\n",
       "      <td>37.798050</td>\n",
       "      <td>-122.405251</td>\n",
       "      <td>20984572</td>\n",
       "      <td>open</td>\n",
       "    </tr>\n",
       "  </tbody>\n",
       "</table>\n",
       "</div>"
      ],
      "text/plain": [
       "    event_id  duration                                 description_events  \\\n",
       "0  153868222     20700  Solve the murder case while eating a 3 course ...   \n",
       "1  184167702     77400  NOTE: This event is EVERY FRIDAY!! Signup is a...   \n",
       "2  215200502     37800  We'll be heading out with a group of travelers...   \n",
       "3  220826782    113400  NOTE: This event is EVERY FRIDAY!! Signup is a...   \n",
       "4  227948102     36000  Aussie Aussie Aussie, Oi Oi Oi! Join us for th...   \n",
       "\n",
       "                                           event_url fee.accepts  \\\n",
       "0  https://www.meetup.com/SanFranciscoStartupFun/...      others   \n",
       "1  https://www.meetup.com/hr-and-tech-sf/events/1...      others   \n",
       "2  https://www.meetup.com/hr-and-tech-sf/events/2...      others   \n",
       "3  https://www.meetup.com/SanFranciscoStartupFun/...      others   \n",
       "4  https://www.meetup.com/hr-and-tech-sf/events/2...      others   \n",
       "\n",
       "   fee.required           event_time  yes_rsvp_count  members  rating  \\\n",
       "0             0  2017-10-30 02:30:00              72     1440    4.39   \n",
       "1             0  2017-10-28 04:00:00             179      969    4.31   \n",
       "2             0  2017-10-27 03:00:00              45     2930    4.84   \n",
       "3             0  2017-10-28 04:00:00             198     5080    4.46   \n",
       "4             0  2018-01-26 01:00:00              24     2097    4.09   \n",
       "\n",
       "   group_id_groups  utc_offset_events     category.shortname      city  \\\n",
       "0             6388             -25200       health-wellbeing  New York   \n",
       "1             6510             -25200  community-environment  New York   \n",
       "2             8458             -25200           pets-animals  New York   \n",
       "3             8940             -25200         sci-fi-fantasy  New York   \n",
       "4            10104             -28800           pets-animals  New York   \n",
       "\n",
       "   venue.lat   venue.lon  venue_id join_mode  \n",
       "0  37.797950 -122.405690  23729697      open  \n",
       "1  37.798172 -122.405457  16948982      open  \n",
       "2  37.797516 -122.407394  24717469      open  \n",
       "3  37.798036 -122.405442    724783      open  \n",
       "4  37.798050 -122.405251  20984572      open  "
      ]
     },
     "execution_count": 104,
     "metadata": {},
     "output_type": "execute_result"
    }
   ],
   "source": [
    "df_events_subset.head()"
   ]
  },
  {
   "cell_type": "code",
   "execution_count": null,
   "metadata": {},
   "outputs": [],
   "source": [
    "df_events_subset['event_popularity'] = df_events_subset['yes_rsvp_count']/df_events_subset[['members','yes_rsvp_count']].max(axis=1)"
   ]
  },
  {
   "cell_type": "markdown",
   "metadata": {},
   "source": [
    "#### 2.1 Feature Engineering - Non-text based attributes\n",
    "\n",
    "Since we wanted to check the significance of the factors influencing the event popularity, we developed new features such as\n",
    "1. Day of the event \n",
    "   For every event, based on the event date, we computed the day of the week.\n",
    "   \n",
    "\n",
    "2. Time of the day \n",
    "    For the given data, the time at which the event was happening was given in the local time format. As our first step, we     converted all the timestamps into the same scale- UTC using the given features - event time and UTC offset \n",
    "    \n",
    "    After getting the local timestamp of each event, based on some general rules, we categorised the time at which each         event was scheduled.\n",
    "    - Morning  - 5am - 11am\n",
    "    - Afternoon- 11am - 4pm\n",
    "    - Evening  - 4pm - 10pm\n",
    "    - Night    - beyond 10pm \n",
    "    \n",
    "    \n",
    "3. Event Popularity Label\n",
    "    Using the median value of the event popularity score as the threshold, a event popularity label is derived.\n",
    "\n"
   ]
  },
  {
   "cell_type": "code",
   "execution_count": null,
   "metadata": {},
   "outputs": [],
   "source": [
    "df_events_subset['event_time'] = pd.to_datetime(df_events_subset['event_time'])\n",
    "df_events_subset['Day'] = df_events_subset['event_time'].dt.weekday_name\n",
    "df_events_subset['utc_offset_events']=pd.to_timedelta(df_events_subset['utc_offset_events'], unit='s')\n",
    "df_events_subset['Event Local Start Time'] = df_events_subset['event_time']+df_events_subset['utc_offset_events']\n",
    "df_events_subset['Event Local Start Time'] = df_events_subset['Event Local Start Time'].dt.time"
   ]
  },
  {
   "cell_type": "code",
   "execution_count": 107,
   "metadata": {},
   "outputs": [],
   "source": [
    "def time_of_day(x):\n",
    "    x = int(str(x).split(\":\")[0])\n",
    "    if(x>=5 and x<=11):\n",
    "        return 'Morning'\n",
    "    elif(x>11 and x<=16):\n",
    "        return 'Afternoon'\n",
    "    elif(x>16 and x<=22):\n",
    "        return 'Evening'\n",
    "    else:\n",
    "        return 'Night'"
   ]
  },
  {
   "cell_type": "code",
   "execution_count": null,
   "metadata": {},
   "outputs": [],
   "source": [
    "df_events_subset['Time of the Day'] = df_events_subset['Event Local Start Time'].apply(lambda x:time_of_day(x))\n",
    "# df_events_subset['Hour']=df_events_subset['Event Local Start Time'].apply(lambda x:int(str(x).split(\":\")[0]))"
   ]
  },
  {
   "cell_type": "code",
   "execution_count": 109,
   "metadata": {},
   "outputs": [
    {
     "data": {
      "text/plain": [
       "event_id                           object\n",
       "duration                            int64\n",
       "description_events                 object\n",
       "event_url                          object\n",
       "fee.accepts                        object\n",
       "fee.required                        int64\n",
       "event_time                 datetime64[ns]\n",
       "yes_rsvp_count                      int64\n",
       "members                             int64\n",
       "rating                            float64\n",
       "group_id_groups                     int64\n",
       "utc_offset_events         timedelta64[ns]\n",
       "category.shortname                 object\n",
       "city                               object\n",
       "venue.lat                         float64\n",
       "venue.lon                         float64\n",
       "venue_id                            int64\n",
       "join_mode                          object\n",
       "event_popularity                  float64\n",
       "Day                                object\n",
       "Event Local Start Time             object\n",
       "Time of the Day                    object\n",
       "dtype: object"
      ]
     },
     "execution_count": 109,
     "metadata": {},
     "output_type": "execute_result"
    }
   ],
   "source": [
    "df_events_subset.dtypes"
   ]
  },
  {
   "cell_type": "code",
   "execution_count": 110,
   "metadata": {},
   "outputs": [],
   "source": [
    "median_popularity = df_events_subset['event_popularity'].median()"
   ]
  },
  {
   "cell_type": "code",
   "execution_count": 111,
   "metadata": {},
   "outputs": [],
   "source": [
    "def popularity(x):\n",
    "    if(x>=median_popularity):\n",
    "        return 'popular'\n",
    "    else:\n",
    "        return 'not popular'\n",
    "    "
   ]
  },
  {
   "cell_type": "code",
   "execution_count": null,
   "metadata": {},
   "outputs": [],
   "source": [
    "df_events_subset['Popularity'] = df_events_subset['event_popularity'].apply(lambda x:popularity(x))"
   ]
  },
  {
   "cell_type": "code",
   "execution_count": 113,
   "metadata": {},
   "outputs": [
    {
     "data": {
      "text/plain": [
       "popular        2905\n",
       "not popular    2902\n",
       "Name: Popularity, dtype: int64"
      ]
     },
     "execution_count": 113,
     "metadata": {},
     "output_type": "execute_result"
    }
   ],
   "source": [
    "df_events_subset['Popularity'].value_counts()"
   ]
  },
  {
   "cell_type": "code",
   "execution_count": 114,
   "metadata": {},
   "outputs": [
    {
     "data": {
      "text/plain": [
       "Evening      3440\n",
       "Afternoon    1365\n",
       "Morning      1001\n",
       "Night           1\n",
       "Name: Time of the Day, dtype: int64"
      ]
     },
     "execution_count": 114,
     "metadata": {},
     "output_type": "execute_result"
    }
   ],
   "source": [
    "df_events_subset['Time of the Day'].value_counts()"
   ]
  },
  {
   "cell_type": "markdown",
   "metadata": {},
   "source": [
    "#### 2.2 Geography of Events\n",
    "To understand the geography of popular events and their distribution in terms of geography, venues dataframe was merged along with the events dataframe on the event ID.\n"
   ]
  },
  {
   "cell_type": "code",
   "execution_count": 34,
   "metadata": {},
   "outputs": [
    {
     "data": {
      "text/plain": [
       "Index(['venue_id', 'address_1', 'city', 'country', 'distance', 'lat',\n",
       "       'localized_country_name', 'lon', 'venue_name', 'rating', 'rating_count',\n",
       "       'state', 'zip', 'normalised_rating'],\n",
       "      dtype='object')"
      ]
     },
     "execution_count": 34,
     "metadata": {},
     "output_type": "execute_result"
    }
   ],
   "source": [
    "df_venues.columns"
   ]
  },
  {
   "cell_type": "code",
   "execution_count": 35,
   "metadata": {},
   "outputs": [
    {
     "data": {
      "text/plain": [
       "Index(['event_id', 'duration', 'description_events', 'event_url',\n",
       "       'fee.accepts', 'fee.required', 'event_time', 'yes_rsvp_count',\n",
       "       'members', 'rating', 'group_id_groups', 'utc_offset_events',\n",
       "       'category.shortname', 'city', 'venue.lat', 'venue.lon', 'venue_id',\n",
       "       'join_mode', 'event_popularity', 'Day', 'Event Local Start Time',\n",
       "       'Time of the Day', 'Popularity'],\n",
       "      dtype='object')"
      ]
     },
     "execution_count": 35,
     "metadata": {},
     "output_type": "execute_result"
    }
   ],
   "source": [
    "df_events_subset.columns"
   ]
  },
  {
   "cell_type": "code",
   "execution_count": 36,
   "metadata": {},
   "outputs": [
    {
     "data": {
      "text/plain": [
       "Index(['event_id', 'duration', 'description_events', 'event_url',\n",
       "       'fee.accepts', 'fee.required', 'event_time', 'yes_rsvp_count',\n",
       "       'members', 'rating', 'group_id_groups', 'utc_offset_events',\n",
       "       'category.shortname', 'city', 'venue.lat', 'venue.lon',\n",
       "       'venue_id_Events', 'join_mode', 'event_popularity', 'Day',\n",
       "       'Event Local Start Time', 'Time of the Day', 'Popularity',\n",
       "       'venue_id_Venues', 'lat', 'lon'],\n",
       "      dtype='object')"
      ]
     },
     "execution_count": 36,
     "metadata": {},
     "output_type": "execute_result"
    }
   ],
   "source": [
    "df_events_venues = df_events_subset.join(df_venues[['venue_id', 'lat', 'lon']],\n",
    "                                         lsuffix='_Events',rsuffix='_Venues')\n",
    "df_events_venues.columns"
   ]
  },
  {
   "cell_type": "code",
   "execution_count": 37,
   "metadata": {},
   "outputs": [],
   "source": [
    "## By Day , time \n",
    "df_events_by_day_time = df_events_venues[['event_id','Day','Time of the Day','city','Popularity','event_popularity',\n",
    "                                          'lat', 'lon']]\n",
    "df_events_by_day_time.to_csv('Events_By_day_time.csv')"
   ]
  },
  {
   "cell_type": "markdown",
   "metadata": {},
   "source": [
    "### Time of Day\n",
    "\n",
    "<img src=\"./images/tod_map_NY.png\"/>\n",
    "<img src=\"./images/tod_map_SF.png\"/>\n",
    "<img src=\"./images/tod_map_CHI.png\"/>\n",
    "\n",
    "#### Findings\n",
    "\n",
    "We see that events occurring early in the morning and in the evening are the most popular. Events that start at night are not as popular or as common. We expect this as many people want to go to events before and after work.\n",
    "\n",
    "### Day of Week\n",
    "\n",
    "<img src=\"./images/dow_map_NY.png\"/>\n",
    "<img src=\"./images/dow_map_SF.png\"/>\n",
    "<img src=\"./images/dow_map_CHI.png\"/>\n",
    "\n",
    "Our hypothesis was that events on Friday, Saturday, and Sunday would be most popular. While there is some truth to this claim, we also see that there are many events (albeit slightly less popular) held on Tuesday and Wednesday. This seems strange to us (as students at least) that people look for interaction *during* the week."
   ]
  },
  {
   "cell_type": "markdown",
   "metadata": {},
   "source": [
    "#### 2.3 Event Popularity- Feature Engineering - Text Based Attributes\n",
    "We wanted to find the most important words in the Event Description that are associated with popular events across each city. \n",
    "\n",
    "An own vocabulary of words were built with the most frequently occuring insignificant words ( that are not stop words).\n",
    "\n",
    "\n",
    "Here are the <b> Text Preprocessing Steps</b>.\n",
    "1. Removing numerical values \n",
    "2. Removing time information \n",
    "3. Removing punctuations\n",
    "4. Lemmatizing the words\n",
    "5. Removing stop words\n",
    "6. Removing insignificant words that were identified and built as a vocabulary\n",
    "\n",
    "A <b> Count Vectoriser </b> was used to obtain the word counts. A minimum threshold was set in order to eliminate the rare words.\n",
    "\n"
   ]
  },
  {
   "cell_type": "code",
   "execution_count": 38,
   "metadata": {},
   "outputs": [],
   "source": [
    "def preprocessing(df):\n",
    "    from nltk.stem import WordNetLemmatizer\n",
    "    from nltk.corpus import stopwords \n",
    "    from nltk.tokenize import word_tokenize\n",
    "    import re\n",
    "    import string\n",
    "    stop_words = set(stopwords.words('english')) \n",
    "    wordnet_lemmatizer = WordNetLemmatizer()\n",
    "    own_vocab = ['www','https','am','pm','href','http','com','meetup','rsvp','link','event','info','meet']\n",
    "    number_regex = re.compile('[0-9]+')\n",
    "    time_regex = re.compile('[0-9]*[0-9]*[:]*[0-9]*[0-9]*[AaPp][Mm]')\n",
    "    regex = re.compile('[%s]' % re.escape(string.punctuation)) ## Removing all punctuations\n",
    "    new_text = []\n",
    "    for i in range(len(df['description_events'])):\n",
    "        new = number_regex.sub('',str(df['description_events'].iloc[i]))\n",
    "        new = time_regex.sub('',new.strip())\n",
    "        new = regex.sub(' ', new.strip().replace(\"'\", \" \")) ## Replacing apostrophe\n",
    "        tok = word_tokenize(new.lower())\n",
    "        new_tok = []\n",
    "        for j in tok:\n",
    "            j = wordnet_lemmatizer.lemmatize(j.strip())\n",
    "            if j not in stop_words:\n",
    "                if j not in own_vocab:\n",
    "                    new_tok.append(j) ## Processing Each word\n",
    "        new_text.append(' '.join(new_tok))\n",
    "    return new_text"
   ]
  },
  {
   "cell_type": "code",
   "execution_count": 39,
   "metadata": {},
   "outputs": [],
   "source": [
    "def generate_df_wordcounts(new_text):\n",
    "    from sklearn.feature_extraction.text import CountVectorizer\n",
    "    vectorizer = CountVectorizer(stop_words='english',min_df=0.1)\n",
    "    X_train_updated = vectorizer.fit_transform(new_text)\n",
    "    df_test = pd.DataFrame()\n",
    "    df_test['Features']=vectorizer.get_feature_names()\n",
    "    df_test['Occurences']=np.asarray(X_train_updated.sum(axis=0)).T\n",
    "    df_test.sort_values(by='Occurences',axis=0, ascending=False,inplace=True)\n",
    "    return df_test"
   ]
  },
  {
   "cell_type": "markdown",
   "metadata": {},
   "source": [
    "#### Word Counts for Popular Events in New York"
   ]
  },
  {
   "cell_type": "code",
   "execution_count": 40,
   "metadata": {},
   "outputs": [
    {
     "data": {
      "text/plain": [
       "33240"
      ]
     },
     "execution_count": 40,
     "metadata": {},
     "output_type": "execute_result"
    }
   ],
   "source": [
    "## All  in NY\n",
    "df_events_NY = df_events_subset[df_events_subset['city']=='New York']\n",
    "NY_descriptions = preprocessing(df_events_NY)\n",
    "df_words_NY = generate_df_wordcounts(NY_descriptions)\n",
    "df_words_NY['Occurences'].sum()"
   ]
  },
  {
   "cell_type": "code",
   "execution_count": 41,
   "metadata": {},
   "outputs": [
    {
     "data": {
      "text/html": [
       "<div>\n",
       "<style scoped>\n",
       "    .dataframe tbody tr th:only-of-type {\n",
       "        vertical-align: middle;\n",
       "    }\n",
       "\n",
       "    .dataframe tbody tr th {\n",
       "        vertical-align: top;\n",
       "    }\n",
       "\n",
       "    .dataframe thead th {\n",
       "        text-align: right;\n",
       "    }\n",
       "</style>\n",
       "<table border=\"1\" class=\"dataframe\">\n",
       "  <thead>\n",
       "    <tr style=\"text-align: right;\">\n",
       "      <th></th>\n",
       "      <th>Features</th>\n",
       "      <th>Occurences</th>\n",
       "      <th>Weighted_Occurences</th>\n",
       "    </tr>\n",
       "  </thead>\n",
       "  <tbody>\n",
       "    <tr>\n",
       "      <th>3</th>\n",
       "      <td>business</td>\n",
       "      <td>707</td>\n",
       "      <td>0.021270</td>\n",
       "    </tr>\n",
       "    <tr>\n",
       "      <th>17</th>\n",
       "      <td>great</td>\n",
       "      <td>568</td>\n",
       "      <td>0.017088</td>\n",
       "    </tr>\n",
       "    <tr>\n",
       "      <th>36</th>\n",
       "      <td>new</td>\n",
       "      <td>567</td>\n",
       "      <td>0.017058</td>\n",
       "    </tr>\n",
       "    <tr>\n",
       "      <th>39</th>\n",
       "      <td>people</td>\n",
       "      <td>545</td>\n",
       "      <td>0.016396</td>\n",
       "    </tr>\n",
       "    <tr>\n",
       "      <th>6</th>\n",
       "      <td>club</td>\n",
       "      <td>519</td>\n",
       "      <td>0.015614</td>\n",
       "    </tr>\n",
       "  </tbody>\n",
       "</table>\n",
       "</div>"
      ],
      "text/plain": [
       "    Features  Occurences  Weighted_Occurences\n",
       "3   business         707             0.021270\n",
       "17     great         568             0.017088\n",
       "36       new         567             0.017058\n",
       "39    people         545             0.016396\n",
       "6       club         519             0.015614"
      ]
     },
     "execution_count": 41,
     "metadata": {},
     "output_type": "execute_result"
    }
   ],
   "source": [
    "df_popular_NY = df_events_subset[df_events_subset['Popularity']=='popular']\n",
    "df_popular_NY= df_popular_NY[df_popular_NY['city']=='New York']\n",
    "popular_descriptions_NY = preprocessing(df_popular_NY)\n",
    "len(popular_descriptions_NY)\n",
    "df_popular_words_NY = generate_df_wordcounts(popular_descriptions_NY)\n",
    "df_popular_words_NY['Weighted_Occurences']= df_popular_words_NY['Occurences']/df_words_NY['Occurences'].sum()\n",
    "df_popular_words_NY.head()\n"
   ]
  },
  {
   "cell_type": "markdown",
   "metadata": {},
   "source": [
    "<img src=\"./images/wordcloud_ny.jpg\"/>"
   ]
  },
  {
   "cell_type": "markdown",
   "metadata": {},
   "source": [
    "#### Word Counts for Popular Events in Chicago"
   ]
  },
  {
   "cell_type": "code",
   "execution_count": 42,
   "metadata": {},
   "outputs": [
    {
     "data": {
      "text/plain": [
       "11883"
      ]
     },
     "execution_count": 42,
     "metadata": {},
     "output_type": "execute_result"
    }
   ],
   "source": [
    "## All  in Chicago\n",
    "df_events_Chicago = df_events_subset[df_events_subset['city']=='Chicago']\n",
    "Chicago_descriptions = preprocessing(df_events_Chicago)\n",
    "len(Chicago_descriptions)\n",
    "df_words_chicago = generate_df_wordcounts(Chicago_descriptions)\n",
    "df_words_chicago['Occurences'].sum()"
   ]
  },
  {
   "cell_type": "code",
   "execution_count": 43,
   "metadata": {},
   "outputs": [
    {
     "data": {
      "text/html": [
       "<div>\n",
       "<style scoped>\n",
       "    .dataframe tbody tr th:only-of-type {\n",
       "        vertical-align: middle;\n",
       "    }\n",
       "\n",
       "    .dataframe tbody tr th {\n",
       "        vertical-align: top;\n",
       "    }\n",
       "\n",
       "    .dataframe thead th {\n",
       "        text-align: right;\n",
       "    }\n",
       "</style>\n",
       "<table border=\"1\" class=\"dataframe\">\n",
       "  <thead>\n",
       "    <tr style=\"text-align: right;\">\n",
       "      <th></th>\n",
       "      <th>Features</th>\n",
       "      <th>Occurences</th>\n",
       "      <th>Weighted_Occurences</th>\n",
       "    </tr>\n",
       "  </thead>\n",
       "  <tbody>\n",
       "    <tr>\n",
       "      <th>34</th>\n",
       "      <td>new</td>\n",
       "      <td>230</td>\n",
       "      <td>0.019355</td>\n",
       "    </tr>\n",
       "    <tr>\n",
       "      <th>16</th>\n",
       "      <td>great</td>\n",
       "      <td>227</td>\n",
       "      <td>0.019103</td>\n",
       "    </tr>\n",
       "    <tr>\n",
       "      <th>37</th>\n",
       "      <td>people</td>\n",
       "      <td>218</td>\n",
       "      <td>0.018346</td>\n",
       "    </tr>\n",
       "    <tr>\n",
       "      <th>45</th>\n",
       "      <td>toastmaster</td>\n",
       "      <td>216</td>\n",
       "      <td>0.018177</td>\n",
       "    </tr>\n",
       "    <tr>\n",
       "      <th>3</th>\n",
       "      <td>business</td>\n",
       "      <td>216</td>\n",
       "      <td>0.018177</td>\n",
       "    </tr>\n",
       "  </tbody>\n",
       "</table>\n",
       "</div>"
      ],
      "text/plain": [
       "       Features  Occurences  Weighted_Occurences\n",
       "34          new         230             0.019355\n",
       "16        great         227             0.019103\n",
       "37       people         218             0.018346\n",
       "45  toastmaster         216             0.018177\n",
       "3      business         216             0.018177"
      ]
     },
     "execution_count": 43,
     "metadata": {},
     "output_type": "execute_result"
    }
   ],
   "source": [
    "df_popular_Chicago = df_events_subset[df_events_subset['Popularity']=='popular']\n",
    "df_popular_Chicago= df_popular_Chicago[df_popular_Chicago['city']=='Chicago']\n",
    "popular_descriptions_Chicago = preprocessing(df_popular_Chicago)\n",
    "df_popular_words_Chicago = generate_df_wordcounts(popular_descriptions_Chicago)\n",
    "df_popular_words_Chicago['Weighted_Occurences']= df_popular_words_Chicago['Occurences']/df_words_chicago['Occurences'].sum()\n",
    "df_popular_words_Chicago.head()"
   ]
  },
  {
   "cell_type": "markdown",
   "metadata": {},
   "source": [
    "<img src=\"./images/wordcloud_chi.JPG\" />"
   ]
  },
  {
   "cell_type": "markdown",
   "metadata": {},
   "source": [
    "#### Word Counts for Popular Events in San Francisco"
   ]
  },
  {
   "cell_type": "code",
   "execution_count": 44,
   "metadata": {},
   "outputs": [
    {
     "data": {
      "text/plain": [
       "14730"
      ]
     },
     "execution_count": 44,
     "metadata": {},
     "output_type": "execute_result"
    }
   ],
   "source": [
    "## All  in SF\n",
    "df_events_SF = df_events_subset[df_events_subset['city']=='San Francisco']\n",
    "SF_descriptions = preprocessing(df_events_SF)\n",
    "len(SF_descriptions)\n",
    "df_words_SF = generate_df_wordcounts(SF_descriptions)\n",
    "df_words_SF['Occurences'].sum()"
   ]
  },
  {
   "cell_type": "code",
   "execution_count": 45,
   "metadata": {},
   "outputs": [
    {
     "data": {
      "text/html": [
       "<div>\n",
       "<style scoped>\n",
       "    .dataframe tbody tr th:only-of-type {\n",
       "        vertical-align: middle;\n",
       "    }\n",
       "\n",
       "    .dataframe tbody tr th {\n",
       "        vertical-align: top;\n",
       "    }\n",
       "\n",
       "    .dataframe thead th {\n",
       "        text-align: right;\n",
       "    }\n",
       "</style>\n",
       "<table border=\"1\" class=\"dataframe\">\n",
       "  <thead>\n",
       "    <tr style=\"text-align: right;\">\n",
       "      <th></th>\n",
       "      <th>Features</th>\n",
       "      <th>Occurences</th>\n",
       "      <th>Weighted_Occurences</th>\n",
       "    </tr>\n",
       "  </thead>\n",
       "  <tbody>\n",
       "    <tr>\n",
       "      <th>3</th>\n",
       "      <td>business</td>\n",
       "      <td>264</td>\n",
       "      <td>0.017923</td>\n",
       "    </tr>\n",
       "    <tr>\n",
       "      <th>16</th>\n",
       "      <td>great</td>\n",
       "      <td>257</td>\n",
       "      <td>0.017447</td>\n",
       "    </tr>\n",
       "    <tr>\n",
       "      <th>6</th>\n",
       "      <td>club</td>\n",
       "      <td>227</td>\n",
       "      <td>0.015411</td>\n",
       "    </tr>\n",
       "    <tr>\n",
       "      <th>29</th>\n",
       "      <td>networking</td>\n",
       "      <td>227</td>\n",
       "      <td>0.015411</td>\n",
       "    </tr>\n",
       "    <tr>\n",
       "      <th>38</th>\n",
       "      <td>toastmaster</td>\n",
       "      <td>223</td>\n",
       "      <td>0.015139</td>\n",
       "    </tr>\n",
       "  </tbody>\n",
       "</table>\n",
       "</div>"
      ],
      "text/plain": [
       "       Features  Occurences  Weighted_Occurences\n",
       "3      business         264             0.017923\n",
       "16        great         257             0.017447\n",
       "6          club         227             0.015411\n",
       "29   networking         227             0.015411\n",
       "38  toastmaster         223             0.015139"
      ]
     },
     "execution_count": 45,
     "metadata": {},
     "output_type": "execute_result"
    }
   ],
   "source": [
    "df_popular_SF = df_events_subset[df_events_subset['Popularity']=='popular']\n",
    "df_popular_SF= df_popular_SF[df_popular_SF['city']=='San Francisco']\n",
    "popular_descriptions_SF = preprocessing(df_popular_SF)\n",
    "df_popular_words_SF = generate_df_wordcounts(popular_descriptions_SF)\n",
    "df_popular_words_SF['Weighted_Occurences']= df_popular_words_SF['Occurences']/df_words_SF['Occurences'].sum()\n",
    "df_popular_words_SF.head()"
   ]
  },
  {
   "cell_type": "markdown",
   "metadata": {},
   "source": [
    "<img src=\"./images/wordcloud_sf.JPG\"/>"
   ]
  },
  {
   "cell_type": "code",
   "execution_count": 46,
   "metadata": {},
   "outputs": [],
   "source": [
    "## CSV Files for all the dfs\n",
    "df_popular_words_NY.to_csv('popular_Words_NY.csv')\n",
    "df_popular_words_Chicago.to_csv('popular_Words_Chicago.csv')\n",
    "df_popular_words_SF.to_csv('popular_Words_SF.csv')"
   ]
  },
  {
   "cell_type": "code",
   "execution_count": 47,
   "metadata": {},
   "outputs": [
    {
     "data": {
      "text/plain": [
       "737"
      ]
     },
     "execution_count": 47,
     "metadata": {},
     "output_type": "execute_result"
    }
   ],
   "source": [
    "len(popular_descriptions_SF)"
   ]
  },
  {
   "cell_type": "markdown",
   "metadata": {},
   "source": [
    "### 3. Crowd Analysis across city \n",
    "#### 3.1 Distribution of categories across each city\n",
    "Though the word clouds give a fair picture about the crowd across each city, we wanted to analyse this aspect further. In order to address this question, we combined the results we analysed the distribution of various categories across each city and found out the ratio of people in the city who are interested in a particular category.\n",
    "\n",
    "Some of the ratios are greater than 1, this is because a member can be in multiple groups and would be counted more than once for each category\n"
   ]
  },
  {
   "cell_type": "code",
   "execution_count": 48,
   "metadata": {},
   "outputs": [
    {
     "data": {
      "text/plain": [
       "city\n",
       "Chicago           91430\n",
       "New York         230059\n",
       "San Francisco     60862\n",
       "Name: member_count, dtype: int64"
      ]
     },
     "execution_count": 48,
     "metadata": {},
     "output_type": "execute_result"
    }
   ],
   "source": [
    "df_cities_agg = df_cities.groupby(['city']).sum()['member_count']\n",
    "df_cities_agg.head()"
   ]
  },
  {
   "cell_type": "code",
   "execution_count": 49,
   "metadata": {},
   "outputs": [],
   "source": [
    "df_groups_category_pivot = df_groups.pivot_table(index='category.name',columns='city',values='members',aggfunc=sum)"
   ]
  },
  {
   "cell_type": "code",
   "execution_count": 50,
   "metadata": {},
   "outputs": [
    {
     "data": {
      "text/html": [
       "<div>\n",
       "<style scoped>\n",
       "    .dataframe tbody tr th:only-of-type {\n",
       "        vertical-align: middle;\n",
       "    }\n",
       "\n",
       "    .dataframe tbody tr th {\n",
       "        vertical-align: top;\n",
       "    }\n",
       "\n",
       "    .dataframe thead th {\n",
       "        text-align: right;\n",
       "    }\n",
       "</style>\n",
       "<table border=\"1\" class=\"dataframe\">\n",
       "  <thead>\n",
       "    <tr style=\"text-align: right;\">\n",
       "      <th>city</th>\n",
       "      <th>Chicago</th>\n",
       "      <th>New York</th>\n",
       "      <th>San Francisco</th>\n",
       "      <th>Chicago %</th>\n",
       "      <th>NY %</th>\n",
       "      <th>SF %</th>\n",
       "    </tr>\n",
       "    <tr>\n",
       "      <th>category.name</th>\n",
       "      <th></th>\n",
       "      <th></th>\n",
       "      <th></th>\n",
       "      <th></th>\n",
       "      <th></th>\n",
       "      <th></th>\n",
       "    </tr>\n",
       "  </thead>\n",
       "  <tbody>\n",
       "    <tr>\n",
       "      <th>LGBT</th>\n",
       "      <td>39556</td>\n",
       "      <td>141130</td>\n",
       "      <td>47876</td>\n",
       "      <td>0.432637</td>\n",
       "      <td>0.613451</td>\n",
       "      <td>0.786632</td>\n",
       "    </tr>\n",
       "    <tr>\n",
       "      <th>alternative lifestyle</th>\n",
       "      <td>14707</td>\n",
       "      <td>34004</td>\n",
       "      <td>14476</td>\n",
       "      <td>0.160855</td>\n",
       "      <td>0.147806</td>\n",
       "      <td>0.237850</td>\n",
       "    </tr>\n",
       "    <tr>\n",
       "      <th>book clubs</th>\n",
       "      <td>18362</td>\n",
       "      <td>37202</td>\n",
       "      <td>13601</td>\n",
       "      <td>0.200831</td>\n",
       "      <td>0.161706</td>\n",
       "      <td>0.223473</td>\n",
       "    </tr>\n",
       "    <tr>\n",
       "      <th>career/business</th>\n",
       "      <td>176252</td>\n",
       "      <td>733670</td>\n",
       "      <td>332193</td>\n",
       "      <td>1.927726</td>\n",
       "      <td>3.189052</td>\n",
       "      <td>5.458135</td>\n",
       "    </tr>\n",
       "    <tr>\n",
       "      <th>cars/motorcycles</th>\n",
       "      <td>3866</td>\n",
       "      <td>6058</td>\n",
       "      <td>4457</td>\n",
       "      <td>0.042284</td>\n",
       "      <td>0.026332</td>\n",
       "      <td>0.073231</td>\n",
       "    </tr>\n",
       "    <tr>\n",
       "      <th>community/environment</th>\n",
       "      <td>23156</td>\n",
       "      <td>77108</td>\n",
       "      <td>40285</td>\n",
       "      <td>0.253265</td>\n",
       "      <td>0.335166</td>\n",
       "      <td>0.661907</td>\n",
       "    </tr>\n",
       "    <tr>\n",
       "      <th>dancing</th>\n",
       "      <td>18284</td>\n",
       "      <td>133540</td>\n",
       "      <td>20488</td>\n",
       "      <td>0.199978</td>\n",
       "      <td>0.580460</td>\n",
       "      <td>0.336630</td>\n",
       "    </tr>\n",
       "    <tr>\n",
       "      <th>education/learning</th>\n",
       "      <td>22470</td>\n",
       "      <td>101685</td>\n",
       "      <td>34591</td>\n",
       "      <td>0.245762</td>\n",
       "      <td>0.441995</td>\n",
       "      <td>0.568351</td>\n",
       "    </tr>\n",
       "    <tr>\n",
       "      <th>fashion/beauty</th>\n",
       "      <td>15924</td>\n",
       "      <td>80577</td>\n",
       "      <td>8235</td>\n",
       "      <td>0.174166</td>\n",
       "      <td>0.350245</td>\n",
       "      <td>0.135306</td>\n",
       "    </tr>\n",
       "    <tr>\n",
       "      <th>fine arts/culture</th>\n",
       "      <td>56615</td>\n",
       "      <td>300675</td>\n",
       "      <td>68132</td>\n",
       "      <td>0.619217</td>\n",
       "      <td>1.306947</td>\n",
       "      <td>1.119451</td>\n",
       "    </tr>\n",
       "    <tr>\n",
       "      <th>fitness</th>\n",
       "      <td>39987</td>\n",
       "      <td>102854</td>\n",
       "      <td>17709</td>\n",
       "      <td>0.437351</td>\n",
       "      <td>0.447077</td>\n",
       "      <td>0.290970</td>\n",
       "    </tr>\n",
       "    <tr>\n",
       "      <th>food/drink</th>\n",
       "      <td>82814</td>\n",
       "      <td>200095</td>\n",
       "      <td>90425</td>\n",
       "      <td>0.905764</td>\n",
       "      <td>0.869755</td>\n",
       "      <td>1.485738</td>\n",
       "    </tr>\n",
       "    <tr>\n",
       "      <th>games</th>\n",
       "      <td>31960</td>\n",
       "      <td>67515</td>\n",
       "      <td>25833</td>\n",
       "      <td>0.349557</td>\n",
       "      <td>0.293468</td>\n",
       "      <td>0.424452</td>\n",
       "    </tr>\n",
       "    <tr>\n",
       "      <th>health/wellbeing</th>\n",
       "      <td>61440</td>\n",
       "      <td>182562</td>\n",
       "      <td>70927</td>\n",
       "      <td>0.671990</td>\n",
       "      <td>0.793544</td>\n",
       "      <td>1.165374</td>\n",
       "    </tr>\n",
       "    <tr>\n",
       "      <th>hobbies/crafts</th>\n",
       "      <td>10399</td>\n",
       "      <td>31735</td>\n",
       "      <td>5610</td>\n",
       "      <td>0.113737</td>\n",
       "      <td>0.137943</td>\n",
       "      <td>0.092176</td>\n",
       "    </tr>\n",
       "    <tr>\n",
       "      <th>language/ethnic identity</th>\n",
       "      <td>80286</td>\n",
       "      <td>359653</td>\n",
       "      <td>103139</td>\n",
       "      <td>0.878114</td>\n",
       "      <td>1.563308</td>\n",
       "      <td>1.694637</td>\n",
       "    </tr>\n",
       "    <tr>\n",
       "      <th>movements/politics</th>\n",
       "      <td>9213</td>\n",
       "      <td>53303</td>\n",
       "      <td>13432</td>\n",
       "      <td>0.100766</td>\n",
       "      <td>0.231693</td>\n",
       "      <td>0.220696</td>\n",
       "    </tr>\n",
       "    <tr>\n",
       "      <th>movies/film</th>\n",
       "      <td>40946</td>\n",
       "      <td>148588</td>\n",
       "      <td>43570</td>\n",
       "      <td>0.447840</td>\n",
       "      <td>0.645869</td>\n",
       "      <td>0.715882</td>\n",
       "    </tr>\n",
       "    <tr>\n",
       "      <th>music</th>\n",
       "      <td>30832</td>\n",
       "      <td>141345</td>\n",
       "      <td>64489</td>\n",
       "      <td>0.337220</td>\n",
       "      <td>0.614386</td>\n",
       "      <td>1.059594</td>\n",
       "    </tr>\n",
       "    <tr>\n",
       "      <th>new age/spirituality</th>\n",
       "      <td>24647</td>\n",
       "      <td>99114</td>\n",
       "      <td>39910</td>\n",
       "      <td>0.269572</td>\n",
       "      <td>0.430820</td>\n",
       "      <td>0.655746</td>\n",
       "    </tr>\n",
       "    <tr>\n",
       "      <th>outdoors/adventure</th>\n",
       "      <td>104056</td>\n",
       "      <td>288702</td>\n",
       "      <td>206745</td>\n",
       "      <td>1.138095</td>\n",
       "      <td>1.254904</td>\n",
       "      <td>3.396947</td>\n",
       "    </tr>\n",
       "    <tr>\n",
       "      <th>paranormal</th>\n",
       "      <td>1163</td>\n",
       "      <td>2790</td>\n",
       "      <td>136</td>\n",
       "      <td>0.012720</td>\n",
       "      <td>0.012127</td>\n",
       "      <td>0.002235</td>\n",
       "    </tr>\n",
       "    <tr>\n",
       "      <th>parents/family</th>\n",
       "      <td>26897</td>\n",
       "      <td>53525</td>\n",
       "      <td>5919</td>\n",
       "      <td>0.294181</td>\n",
       "      <td>0.232658</td>\n",
       "      <td>0.097253</td>\n",
       "    </tr>\n",
       "    <tr>\n",
       "      <th>pets/animals</th>\n",
       "      <td>13264</td>\n",
       "      <td>36566</td>\n",
       "      <td>18682</td>\n",
       "      <td>0.145073</td>\n",
       "      <td>0.158942</td>\n",
       "      <td>0.306957</td>\n",
       "    </tr>\n",
       "    <tr>\n",
       "      <th>photography</th>\n",
       "      <td>26238</td>\n",
       "      <td>115450</td>\n",
       "      <td>45242</td>\n",
       "      <td>0.286974</td>\n",
       "      <td>0.501828</td>\n",
       "      <td>0.743354</td>\n",
       "    </tr>\n",
       "    <tr>\n",
       "      <th>religion/beliefs</th>\n",
       "      <td>10915</td>\n",
       "      <td>57388</td>\n",
       "      <td>8231</td>\n",
       "      <td>0.119381</td>\n",
       "      <td>0.249449</td>\n",
       "      <td>0.135240</td>\n",
       "    </tr>\n",
       "    <tr>\n",
       "      <th>sci-fi/fantasy</th>\n",
       "      <td>9341</td>\n",
       "      <td>28663</td>\n",
       "      <td>8561</td>\n",
       "      <td>0.102166</td>\n",
       "      <td>0.124590</td>\n",
       "      <td>0.140662</td>\n",
       "    </tr>\n",
       "    <tr>\n",
       "      <th>singles</th>\n",
       "      <td>34545</td>\n",
       "      <td>197316</td>\n",
       "      <td>53113</td>\n",
       "      <td>0.377830</td>\n",
       "      <td>0.857676</td>\n",
       "      <td>0.872679</td>\n",
       "    </tr>\n",
       "    <tr>\n",
       "      <th>socializing</th>\n",
       "      <td>339802</td>\n",
       "      <td>872142</td>\n",
       "      <td>258133</td>\n",
       "      <td>3.716526</td>\n",
       "      <td>3.790949</td>\n",
       "      <td>4.241284</td>\n",
       "    </tr>\n",
       "    <tr>\n",
       "      <th>sports/recreation</th>\n",
       "      <td>79631</td>\n",
       "      <td>174291</td>\n",
       "      <td>58626</td>\n",
       "      <td>0.870950</td>\n",
       "      <td>0.757593</td>\n",
       "      <td>0.963261</td>\n",
       "    </tr>\n",
       "    <tr>\n",
       "      <th>support</th>\n",
       "      <td>12469</td>\n",
       "      <td>48013</td>\n",
       "      <td>9768</td>\n",
       "      <td>0.136378</td>\n",
       "      <td>0.208699</td>\n",
       "      <td>0.160494</td>\n",
       "    </tr>\n",
       "    <tr>\n",
       "      <th>tech</th>\n",
       "      <td>386231</td>\n",
       "      <td>1423089</td>\n",
       "      <td>1201773</td>\n",
       "      <td>4.224336</td>\n",
       "      <td>6.185757</td>\n",
       "      <td>19.745868</td>\n",
       "    </tr>\n",
       "    <tr>\n",
       "      <th>writing</th>\n",
       "      <td>17307</td>\n",
       "      <td>42067</td>\n",
       "      <td>12478</td>\n",
       "      <td>0.189292</td>\n",
       "      <td>0.182853</td>\n",
       "      <td>0.205021</td>\n",
       "    </tr>\n",
       "  </tbody>\n",
       "</table>\n",
       "</div>"
      ],
      "text/plain": [
       "city                      Chicago  New York  San Francisco  Chicago %  \\\n",
       "category.name                                                           \n",
       "LGBT                        39556    141130          47876   0.432637   \n",
       "alternative lifestyle       14707     34004          14476   0.160855   \n",
       "book clubs                  18362     37202          13601   0.200831   \n",
       "career/business            176252    733670         332193   1.927726   \n",
       "cars/motorcycles             3866      6058           4457   0.042284   \n",
       "community/environment       23156     77108          40285   0.253265   \n",
       "dancing                     18284    133540          20488   0.199978   \n",
       "education/learning          22470    101685          34591   0.245762   \n",
       "fashion/beauty              15924     80577           8235   0.174166   \n",
       "fine arts/culture           56615    300675          68132   0.619217   \n",
       "fitness                     39987    102854          17709   0.437351   \n",
       "food/drink                  82814    200095          90425   0.905764   \n",
       "games                       31960     67515          25833   0.349557   \n",
       "health/wellbeing            61440    182562          70927   0.671990   \n",
       "hobbies/crafts              10399     31735           5610   0.113737   \n",
       "language/ethnic identity    80286    359653         103139   0.878114   \n",
       "movements/politics           9213     53303          13432   0.100766   \n",
       "movies/film                 40946    148588          43570   0.447840   \n",
       "music                       30832    141345          64489   0.337220   \n",
       "new age/spirituality        24647     99114          39910   0.269572   \n",
       "outdoors/adventure         104056    288702         206745   1.138095   \n",
       "paranormal                   1163      2790            136   0.012720   \n",
       "parents/family              26897     53525           5919   0.294181   \n",
       "pets/animals                13264     36566          18682   0.145073   \n",
       "photography                 26238    115450          45242   0.286974   \n",
       "religion/beliefs            10915     57388           8231   0.119381   \n",
       "sci-fi/fantasy               9341     28663           8561   0.102166   \n",
       "singles                     34545    197316          53113   0.377830   \n",
       "socializing                339802    872142         258133   3.716526   \n",
       "sports/recreation           79631    174291          58626   0.870950   \n",
       "support                     12469     48013           9768   0.136378   \n",
       "tech                       386231   1423089        1201773   4.224336   \n",
       "writing                     17307     42067          12478   0.189292   \n",
       "\n",
       "city                          NY %       SF %  \n",
       "category.name                                  \n",
       "LGBT                      0.613451   0.786632  \n",
       "alternative lifestyle     0.147806   0.237850  \n",
       "book clubs                0.161706   0.223473  \n",
       "career/business           3.189052   5.458135  \n",
       "cars/motorcycles          0.026332   0.073231  \n",
       "community/environment     0.335166   0.661907  \n",
       "dancing                   0.580460   0.336630  \n",
       "education/learning        0.441995   0.568351  \n",
       "fashion/beauty            0.350245   0.135306  \n",
       "fine arts/culture         1.306947   1.119451  \n",
       "fitness                   0.447077   0.290970  \n",
       "food/drink                0.869755   1.485738  \n",
       "games                     0.293468   0.424452  \n",
       "health/wellbeing          0.793544   1.165374  \n",
       "hobbies/crafts            0.137943   0.092176  \n",
       "language/ethnic identity  1.563308   1.694637  \n",
       "movements/politics        0.231693   0.220696  \n",
       "movies/film               0.645869   0.715882  \n",
       "music                     0.614386   1.059594  \n",
       "new age/spirituality      0.430820   0.655746  \n",
       "outdoors/adventure        1.254904   3.396947  \n",
       "paranormal                0.012127   0.002235  \n",
       "parents/family            0.232658   0.097253  \n",
       "pets/animals              0.158942   0.306957  \n",
       "photography               0.501828   0.743354  \n",
       "religion/beliefs          0.249449   0.135240  \n",
       "sci-fi/fantasy            0.124590   0.140662  \n",
       "singles                   0.857676   0.872679  \n",
       "socializing               3.790949   4.241284  \n",
       "sports/recreation         0.757593   0.963261  \n",
       "support                   0.208699   0.160494  \n",
       "tech                      6.185757  19.745868  \n",
       "writing                   0.182853   0.205021  "
      ]
     },
     "execution_count": 50,
     "metadata": {},
     "output_type": "execute_result"
    }
   ],
   "source": [
    "df_groups_category_pivot['Chicago %']=df_groups_category_pivot['Chicago']/df_cities_agg['Chicago']\n",
    "df_groups_category_pivot['NY %']=df_groups_category_pivot['New York']/df_cities_agg['New York']\n",
    "df_groups_category_pivot['SF %']=df_groups_category_pivot['San Francisco']/df_cities_agg['San Francisco']\n",
    "df_groups_category_pivot"
   ]
  },
  {
   "cell_type": "markdown",
   "metadata": {},
   "source": [
    "### Bubble Charts\n",
    "\n",
    "#### New York\n",
    "\n",
    "<img src=\"./images/category_bubbles_ny.JPG\" />\n",
    "\n",
    "#### Chicago\n",
    "\n",
    "<img src=\"./images/category_bubbles_chi.JPG\" />\n",
    "\n",
    "#### San Francisco\n",
    "\n",
    "<img src=\"./images/category_bubbles_sf.JPG\" />\n",
    "\n",
    "\n",
    "We see that technology and career/business are popular in all 3 cities. Outdoor activities or events are more popular in Chicago and San Francisco, relative to New York."
   ]
  },
  {
   "cell_type": "code",
   "execution_count": 51,
   "metadata": {},
   "outputs": [],
   "source": [
    "df_groups_category_pivot.to_csv('Groups_Categories_Distribution.csv')"
   ]
  },
  {
   "cell_type": "markdown",
   "metadata": {},
   "source": [
    "#### 3.2 Cooccurence of categories\n",
    "In order to analyse the cooccurence of categories and develop a network analysis within each city, we had to construct a cooccurence matrix and plot it.\n",
    "\n",
    "Steps for constructing a cooccurence matrix:\n",
    "1. Create a subset of members in each city with relevant columns - memberID, member_name and group_ID\n",
    "2. Create the subset of Groups Table with relevant columns - Group ID and category name\n",
    "3. Join the two tables on Group ID to find the all the categories a member is associated with\n",
    "4. Create np.zero matrix with dimensions being the number of unique categories \n",
    "        (i,j) will be the combination of category_i and category_j\n",
    "5. For every unique member, find all the pairs of categories he/she is interested in and add 1 for each entry. "
   ]
  },
  {
   "cell_type": "code",
   "execution_count": 52,
   "metadata": {},
   "outputs": [
    {
     "data": {
      "text/html": [
       "<div>\n",
       "<style scoped>\n",
       "    .dataframe tbody tr th:only-of-type {\n",
       "        vertical-align: middle;\n",
       "    }\n",
       "\n",
       "    .dataframe tbody tr th {\n",
       "        vertical-align: top;\n",
       "    }\n",
       "\n",
       "    .dataframe thead th {\n",
       "        text-align: right;\n",
       "    }\n",
       "</style>\n",
       "<table border=\"1\" class=\"dataframe\">\n",
       "  <thead>\n",
       "    <tr style=\"text-align: right;\">\n",
       "      <th></th>\n",
       "      <th>member_id</th>\n",
       "      <th>bio</th>\n",
       "      <th>city</th>\n",
       "      <th>country</th>\n",
       "      <th>hometown</th>\n",
       "      <th>joined</th>\n",
       "      <th>lat</th>\n",
       "      <th>link</th>\n",
       "      <th>lon</th>\n",
       "      <th>member_name</th>\n",
       "      <th>state</th>\n",
       "      <th>member_status</th>\n",
       "      <th>visited</th>\n",
       "      <th>group_id</th>\n",
       "      <th>year_joined</th>\n",
       "    </tr>\n",
       "  </thead>\n",
       "  <tbody>\n",
       "    <tr>\n",
       "      <th>0</th>\n",
       "      <td>3</td>\n",
       "      <td>not_found</td>\n",
       "      <td>New York</td>\n",
       "      <td>us</td>\n",
       "      <td>New York, NY</td>\n",
       "      <td>2007-05-01 22:04:37</td>\n",
       "      <td>40.72</td>\n",
       "      <td>http://www.meetup.com/members/3</td>\n",
       "      <td>-74.0</td>\n",
       "      <td>Matt Meeker</td>\n",
       "      <td>NY</td>\n",
       "      <td>active</td>\n",
       "      <td>2009-09-18 18:32:23</td>\n",
       "      <td>490552</td>\n",
       "      <td>2007</td>\n",
       "    </tr>\n",
       "    <tr>\n",
       "      <th>1</th>\n",
       "      <td>3</td>\n",
       "      <td>not_found</td>\n",
       "      <td>New York</td>\n",
       "      <td>us</td>\n",
       "      <td>New York, NY</td>\n",
       "      <td>2011-01-23 14:13:17</td>\n",
       "      <td>40.72</td>\n",
       "      <td>http://www.meetup.com/members/3</td>\n",
       "      <td>-74.0</td>\n",
       "      <td>Matt Meeker</td>\n",
       "      <td>NY</td>\n",
       "      <td>active</td>\n",
       "      <td>2011-03-20 01:02:11</td>\n",
       "      <td>1474611</td>\n",
       "      <td>2011</td>\n",
       "    </tr>\n",
       "    <tr>\n",
       "      <th>2</th>\n",
       "      <td>3</td>\n",
       "      <td>Hi, I'm Matt. I'm an entrepreneur who has star...</td>\n",
       "      <td>New York</td>\n",
       "      <td>us</td>\n",
       "      <td>New York, NY</td>\n",
       "      <td>2010-12-30 18:47:34</td>\n",
       "      <td>40.72</td>\n",
       "      <td>http://www.meetup.com/members/3</td>\n",
       "      <td>-74.0</td>\n",
       "      <td>Matt Meeker</td>\n",
       "      <td>NY</td>\n",
       "      <td>active</td>\n",
       "      <td>2011-01-18 20:37:23</td>\n",
       "      <td>1490492</td>\n",
       "      <td>2010</td>\n",
       "    </tr>\n",
       "    <tr>\n",
       "      <th>3</th>\n",
       "      <td>3</td>\n",
       "      <td>Hi, I'm Matt. I'm an entrepreneur who has star...</td>\n",
       "      <td>New York</td>\n",
       "      <td>us</td>\n",
       "      <td>New York, NY</td>\n",
       "      <td>2011-01-03 14:45:21</td>\n",
       "      <td>40.72</td>\n",
       "      <td>http://www.meetup.com/members/3</td>\n",
       "      <td>-74.0</td>\n",
       "      <td>Matt Meeker</td>\n",
       "      <td>NY</td>\n",
       "      <td>active</td>\n",
       "      <td>2011-07-23 03:42:28</td>\n",
       "      <td>1515830</td>\n",
       "      <td>2011</td>\n",
       "    </tr>\n",
       "    <tr>\n",
       "      <th>4</th>\n",
       "      <td>3</td>\n",
       "      <td>Hi, I'm Matt. I'm an entrepreneur who has star...</td>\n",
       "      <td>New York</td>\n",
       "      <td>us</td>\n",
       "      <td>New York, NY</td>\n",
       "      <td>2010-12-30 18:34:50</td>\n",
       "      <td>40.72</td>\n",
       "      <td>http://www.meetup.com/members/3</td>\n",
       "      <td>-74.0</td>\n",
       "      <td>Matt Meeker</td>\n",
       "      <td>NY</td>\n",
       "      <td>active</td>\n",
       "      <td>2011-06-13 18:33:23</td>\n",
       "      <td>1574965</td>\n",
       "      <td>2010</td>\n",
       "    </tr>\n",
       "  </tbody>\n",
       "</table>\n",
       "</div>"
      ],
      "text/plain": [
       "   member_id                                                bio      city  \\\n",
       "0          3                                          not_found  New York   \n",
       "1          3                                          not_found  New York   \n",
       "2          3  Hi, I'm Matt. I'm an entrepreneur who has star...  New York   \n",
       "3          3  Hi, I'm Matt. I'm an entrepreneur who has star...  New York   \n",
       "4          3  Hi, I'm Matt. I'm an entrepreneur who has star...  New York   \n",
       "\n",
       "  country      hometown               joined    lat  \\\n",
       "0      us  New York, NY  2007-05-01 22:04:37  40.72   \n",
       "1      us  New York, NY  2011-01-23 14:13:17  40.72   \n",
       "2      us  New York, NY  2010-12-30 18:47:34  40.72   \n",
       "3      us  New York, NY  2011-01-03 14:45:21  40.72   \n",
       "4      us  New York, NY  2010-12-30 18:34:50  40.72   \n",
       "\n",
       "                              link   lon  member_name state member_status  \\\n",
       "0  http://www.meetup.com/members/3 -74.0  Matt Meeker    NY        active   \n",
       "1  http://www.meetup.com/members/3 -74.0  Matt Meeker    NY        active   \n",
       "2  http://www.meetup.com/members/3 -74.0  Matt Meeker    NY        active   \n",
       "3  http://www.meetup.com/members/3 -74.0  Matt Meeker    NY        active   \n",
       "4  http://www.meetup.com/members/3 -74.0  Matt Meeker    NY        active   \n",
       "\n",
       "               visited  group_id  year_joined  \n",
       "0  2009-09-18 18:32:23    490552         2007  \n",
       "1  2011-03-20 01:02:11   1474611         2011  \n",
       "2  2011-01-18 20:37:23   1490492         2010  \n",
       "3  2011-07-23 03:42:28   1515830         2011  \n",
       "4  2011-06-13 18:33:23   1574965         2010  "
      ]
     },
     "execution_count": 52,
     "metadata": {},
     "output_type": "execute_result"
    }
   ],
   "source": [
    "df_members.head()"
   ]
  },
  {
   "cell_type": "code",
   "execution_count": 53,
   "metadata": {},
   "outputs": [
    {
     "data": {
      "text/plain": [
       "array(['New York', 'San Francisco', 'Chicago'], dtype=object)"
      ]
     },
     "execution_count": 53,
     "metadata": {},
     "output_type": "execute_result"
    }
   ],
   "source": [
    "df_members['city'].unique()"
   ]
  },
  {
   "cell_type": "code",
   "execution_count": 54,
   "metadata": {},
   "outputs": [],
   "source": [
    "df_members_temp= df_members[df_members['city']=='Chicago']"
   ]
  },
  {
   "cell_type": "code",
   "execution_count": 55,
   "metadata": {},
   "outputs": [],
   "source": [
    "df_members_temp = df_members_temp[['member_id','member_name','group_id']]"
   ]
  },
  {
   "cell_type": "code",
   "execution_count": 56,
   "metadata": {},
   "outputs": [],
   "source": [
    "df_groups_temp = df_groups[['group_id','category.name']]"
   ]
  },
  {
   "cell_type": "code",
   "execution_count": 57,
   "metadata": {},
   "outputs": [],
   "source": [
    "df_members_groups_temp = df_members_temp.join(df_groups_temp,lsuffix='_members',rsuffix='_groups')\n",
    "df_members_groups_temp=df_members_groups_temp[['member_id', 'member_name','group_id_members','category.name']]"
   ]
  },
  {
   "cell_type": "code",
   "execution_count": 58,
   "metadata": {},
   "outputs": [
    {
     "data": {
      "text/html": [
       "<div>\n",
       "<style scoped>\n",
       "    .dataframe tbody tr th:only-of-type {\n",
       "        vertical-align: middle;\n",
       "    }\n",
       "\n",
       "    .dataframe tbody tr th {\n",
       "        vertical-align: top;\n",
       "    }\n",
       "\n",
       "    .dataframe thead th {\n",
       "        text-align: right;\n",
       "    }\n",
       "</style>\n",
       "<table border=\"1\" class=\"dataframe\">\n",
       "  <thead>\n",
       "    <tr style=\"text-align: right;\">\n",
       "      <th></th>\n",
       "      <th>member_id</th>\n",
       "      <th>member_name</th>\n",
       "      <th>group_id_members</th>\n",
       "      <th>category.name</th>\n",
       "    </tr>\n",
       "  </thead>\n",
       "  <tbody>\n",
       "    <tr>\n",
       "      <th>135</th>\n",
       "      <td>819</td>\n",
       "      <td>James</td>\n",
       "      <td>514628</td>\n",
       "      <td>pets/animals</td>\n",
       "    </tr>\n",
       "    <tr>\n",
       "      <th>136</th>\n",
       "      <td>819</td>\n",
       "      <td>James</td>\n",
       "      <td>1294245</td>\n",
       "      <td>health/wellbeing</td>\n",
       "    </tr>\n",
       "    <tr>\n",
       "      <th>137</th>\n",
       "      <td>819</td>\n",
       "      <td>James</td>\n",
       "      <td>1455470</td>\n",
       "      <td>health/wellbeing</td>\n",
       "    </tr>\n",
       "    <tr>\n",
       "      <th>138</th>\n",
       "      <td>819</td>\n",
       "      <td>James</td>\n",
       "      <td>1576866</td>\n",
       "      <td>sports/recreation</td>\n",
       "    </tr>\n",
       "    <tr>\n",
       "      <th>139</th>\n",
       "      <td>819</td>\n",
       "      <td>James</td>\n",
       "      <td>1681402</td>\n",
       "      <td>health/wellbeing</td>\n",
       "    </tr>\n",
       "  </tbody>\n",
       "</table>\n",
       "</div>"
      ],
      "text/plain": [
       "     member_id member_name  group_id_members      category.name\n",
       "135        819       James            514628       pets/animals\n",
       "136        819       James           1294245   health/wellbeing\n",
       "137        819       James           1455470   health/wellbeing\n",
       "138        819       James           1576866  sports/recreation\n",
       "139        819       James           1681402   health/wellbeing"
      ]
     },
     "execution_count": 58,
     "metadata": {},
     "output_type": "execute_result"
    }
   ],
   "source": [
    "df_members_groups_temp.head()"
   ]
  },
  {
   "cell_type": "code",
   "execution_count": 59,
   "metadata": {},
   "outputs": [],
   "source": [
    "dim = len(df_members_groups_temp['category.name'].unique())"
   ]
  },
  {
   "cell_type": "code",
   "execution_count": 60,
   "metadata": {},
   "outputs": [],
   "source": [
    "t = df_members_groups_temp['category.name'].unique()"
   ]
  },
  {
   "cell_type": "code",
   "execution_count": 61,
   "metadata": {},
   "outputs": [],
   "source": [
    "A = np.zeros((dim,dim))"
   ]
  },
  {
   "cell_type": "code",
   "execution_count": 62,
   "metadata": {},
   "outputs": [
    {
     "data": {
      "text/plain": [
       "236055"
      ]
     },
     "execution_count": 62,
     "metadata": {},
     "output_type": "execute_result"
    }
   ],
   "source": [
    "len(df_members_groups_temp['member_id'].unique())"
   ]
  },
  {
   "cell_type": "code",
   "execution_count": 63,
   "metadata": {},
   "outputs": [],
   "source": [
    "from itertools import combinations\n",
    "unique_members = df_members_groups_temp['member_id'].unique()\n",
    "for i in unique_members:\n",
    "    test = df_members_groups_temp[df_members_groups_temp['member_id']==i]\n",
    "    test_uni_groups = test['category.name'].unique()\n",
    "    r = list(test_uni_groups)\n",
    "    l = [list(t).index(i) for i in r] ## list of indices\n",
    "    l = sorted(l)\n",
    "    perm = combinations(l, 2) \n",
    "    for i in list(perm): \n",
    "        A[i[0],i[1]] +=1"
   ]
  },
  {
   "cell_type": "code",
   "execution_count": 116,
   "metadata": {},
   "outputs": [],
   "source": [
    "l = [list(t).index(i) for i in r] ## list of indices"
   ]
  },
  {
   "cell_type": "code",
   "execution_count": 65,
   "metadata": {},
   "outputs": [
    {
     "data": {
      "text/plain": [
       "(34, 34)"
      ]
     },
     "execution_count": 65,
     "metadata": {},
     "output_type": "execute_result"
    }
   ],
   "source": [
    "A.shape"
   ]
  },
  {
   "cell_type": "code",
   "execution_count": 66,
   "metadata": {},
   "outputs": [
    {
     "data": {
      "text/plain": [
       "array([[ 0., 12., 10., ...,  1.,  0.,  0.],\n",
       "       [ 0.,  0., 28., ...,  8.,  1.,  0.],\n",
       "       [ 0.,  0.,  0., ...,  3.,  1.,  0.],\n",
       "       ...,\n",
       "       [ 0.,  0.,  0., ...,  0.,  1.,  0.],\n",
       "       [ 0.,  0.,  0., ...,  0.,  0.,  0.],\n",
       "       [ 0.,  0.,  0., ...,  0.,  0.,  0.]])"
      ]
     },
     "execution_count": 66,
     "metadata": {},
     "output_type": "execute_result"
    }
   ],
   "source": [
    "A"
   ]
  },
  {
   "cell_type": "code",
   "execution_count": 67,
   "metadata": {},
   "outputs": [],
   "source": [
    "df_chicago_coocurrence = pd.DataFrame(A)"
   ]
  },
  {
   "cell_type": "code",
   "execution_count": 68,
   "metadata": {},
   "outputs": [
    {
     "data": {
      "text/html": [
       "<div>\n",
       "<style scoped>\n",
       "    .dataframe tbody tr th:only-of-type {\n",
       "        vertical-align: middle;\n",
       "    }\n",
       "\n",
       "    .dataframe tbody tr th {\n",
       "        vertical-align: top;\n",
       "    }\n",
       "\n",
       "    .dataframe thead th {\n",
       "        text-align: right;\n",
       "    }\n",
       "</style>\n",
       "<table border=\"1\" class=\"dataframe\">\n",
       "  <thead>\n",
       "    <tr style=\"text-align: right;\">\n",
       "      <th></th>\n",
       "      <th>0</th>\n",
       "      <th>1</th>\n",
       "      <th>2</th>\n",
       "      <th>3</th>\n",
       "      <th>4</th>\n",
       "      <th>5</th>\n",
       "      <th>6</th>\n",
       "      <th>7</th>\n",
       "      <th>8</th>\n",
       "      <th>9</th>\n",
       "      <th>...</th>\n",
       "      <th>24</th>\n",
       "      <th>25</th>\n",
       "      <th>26</th>\n",
       "      <th>27</th>\n",
       "      <th>28</th>\n",
       "      <th>29</th>\n",
       "      <th>30</th>\n",
       "      <th>31</th>\n",
       "      <th>32</th>\n",
       "      <th>33</th>\n",
       "    </tr>\n",
       "  </thead>\n",
       "  <tbody>\n",
       "    <tr>\n",
       "      <th>0</th>\n",
       "      <td>0.0</td>\n",
       "      <td>12.0</td>\n",
       "      <td>10.0</td>\n",
       "      <td>7.0</td>\n",
       "      <td>20.0</td>\n",
       "      <td>11.0</td>\n",
       "      <td>6.0</td>\n",
       "      <td>10.0</td>\n",
       "      <td>4.0</td>\n",
       "      <td>4.0</td>\n",
       "      <td>...</td>\n",
       "      <td>9.0</td>\n",
       "      <td>6.0</td>\n",
       "      <td>7.0</td>\n",
       "      <td>4.0</td>\n",
       "      <td>9.0</td>\n",
       "      <td>4.0</td>\n",
       "      <td>3.0</td>\n",
       "      <td>1.0</td>\n",
       "      <td>0.0</td>\n",
       "      <td>0.0</td>\n",
       "    </tr>\n",
       "    <tr>\n",
       "      <th>1</th>\n",
       "      <td>0.0</td>\n",
       "      <td>0.0</td>\n",
       "      <td>28.0</td>\n",
       "      <td>15.0</td>\n",
       "      <td>57.0</td>\n",
       "      <td>27.0</td>\n",
       "      <td>14.0</td>\n",
       "      <td>31.0</td>\n",
       "      <td>6.0</td>\n",
       "      <td>10.0</td>\n",
       "      <td>...</td>\n",
       "      <td>23.0</td>\n",
       "      <td>15.0</td>\n",
       "      <td>23.0</td>\n",
       "      <td>8.0</td>\n",
       "      <td>21.0</td>\n",
       "      <td>19.0</td>\n",
       "      <td>10.0</td>\n",
       "      <td>8.0</td>\n",
       "      <td>1.0</td>\n",
       "      <td>0.0</td>\n",
       "    </tr>\n",
       "    <tr>\n",
       "      <th>2</th>\n",
       "      <td>0.0</td>\n",
       "      <td>0.0</td>\n",
       "      <td>0.0</td>\n",
       "      <td>12.0</td>\n",
       "      <td>48.0</td>\n",
       "      <td>28.0</td>\n",
       "      <td>14.0</td>\n",
       "      <td>31.0</td>\n",
       "      <td>8.0</td>\n",
       "      <td>9.0</td>\n",
       "      <td>...</td>\n",
       "      <td>15.0</td>\n",
       "      <td>12.0</td>\n",
       "      <td>17.0</td>\n",
       "      <td>5.0</td>\n",
       "      <td>17.0</td>\n",
       "      <td>14.0</td>\n",
       "      <td>8.0</td>\n",
       "      <td>3.0</td>\n",
       "      <td>1.0</td>\n",
       "      <td>0.0</td>\n",
       "    </tr>\n",
       "    <tr>\n",
       "      <th>3</th>\n",
       "      <td>0.0</td>\n",
       "      <td>0.0</td>\n",
       "      <td>0.0</td>\n",
       "      <td>0.0</td>\n",
       "      <td>25.0</td>\n",
       "      <td>17.0</td>\n",
       "      <td>9.0</td>\n",
       "      <td>13.0</td>\n",
       "      <td>5.0</td>\n",
       "      <td>3.0</td>\n",
       "      <td>...</td>\n",
       "      <td>16.0</td>\n",
       "      <td>6.0</td>\n",
       "      <td>10.0</td>\n",
       "      <td>7.0</td>\n",
       "      <td>10.0</td>\n",
       "      <td>9.0</td>\n",
       "      <td>5.0</td>\n",
       "      <td>5.0</td>\n",
       "      <td>0.0</td>\n",
       "      <td>0.0</td>\n",
       "    </tr>\n",
       "    <tr>\n",
       "      <th>4</th>\n",
       "      <td>0.0</td>\n",
       "      <td>0.0</td>\n",
       "      <td>0.0</td>\n",
       "      <td>0.0</td>\n",
       "      <td>0.0</td>\n",
       "      <td>49.0</td>\n",
       "      <td>25.0</td>\n",
       "      <td>50.0</td>\n",
       "      <td>8.0</td>\n",
       "      <td>22.0</td>\n",
       "      <td>...</td>\n",
       "      <td>41.0</td>\n",
       "      <td>28.0</td>\n",
       "      <td>33.0</td>\n",
       "      <td>17.0</td>\n",
       "      <td>36.0</td>\n",
       "      <td>27.0</td>\n",
       "      <td>19.0</td>\n",
       "      <td>9.0</td>\n",
       "      <td>2.0</td>\n",
       "      <td>0.0</td>\n",
       "    </tr>\n",
       "  </tbody>\n",
       "</table>\n",
       "<p>5 rows × 34 columns</p>\n",
       "</div>"
      ],
      "text/plain": [
       "    0     1     2     3     4     5     6     7    8     9  ...     24    25  \\\n",
       "0  0.0  12.0  10.0   7.0  20.0  11.0   6.0  10.0  4.0   4.0 ...    9.0   6.0   \n",
       "1  0.0   0.0  28.0  15.0  57.0  27.0  14.0  31.0  6.0  10.0 ...   23.0  15.0   \n",
       "2  0.0   0.0   0.0  12.0  48.0  28.0  14.0  31.0  8.0   9.0 ...   15.0  12.0   \n",
       "3  0.0   0.0   0.0   0.0  25.0  17.0   9.0  13.0  5.0   3.0 ...   16.0   6.0   \n",
       "4  0.0   0.0   0.0   0.0   0.0  49.0  25.0  50.0  8.0  22.0 ...   41.0  28.0   \n",
       "\n",
       "     26    27    28    29    30   31   32   33  \n",
       "0   7.0   4.0   9.0   4.0   3.0  1.0  0.0  0.0  \n",
       "1  23.0   8.0  21.0  19.0  10.0  8.0  1.0  0.0  \n",
       "2  17.0   5.0  17.0  14.0   8.0  3.0  1.0  0.0  \n",
       "3  10.0   7.0  10.0   9.0   5.0  5.0  0.0  0.0  \n",
       "4  33.0  17.0  36.0  27.0  19.0  9.0  2.0  0.0  \n",
       "\n",
       "[5 rows x 34 columns]"
      ]
     },
     "execution_count": 68,
     "metadata": {},
     "output_type": "execute_result"
    }
   ],
   "source": [
    "df_chicago_coocurrence.head()"
   ]
  },
  {
   "cell_type": "code",
   "execution_count": 69,
   "metadata": {},
   "outputs": [],
   "source": [
    "df_chicago_coocurrence.columns = t\n",
    "df_chicago_coocurrence.index = t"
   ]
  },
  {
   "cell_type": "code",
   "execution_count": 71,
   "metadata": {},
   "outputs": [
    {
     "data": {
      "text/html": [
       "<div>\n",
       "<style scoped>\n",
       "    .dataframe tbody tr th:only-of-type {\n",
       "        vertical-align: middle;\n",
       "    }\n",
       "\n",
       "    .dataframe tbody tr th {\n",
       "        vertical-align: top;\n",
       "    }\n",
       "\n",
       "    .dataframe thead th {\n",
       "        text-align: right;\n",
       "    }\n",
       "</style>\n",
       "<table border=\"1\" class=\"dataframe\">\n",
       "  <thead>\n",
       "    <tr style=\"text-align: right;\">\n",
       "      <th></th>\n",
       "      <th>pets/animals</th>\n",
       "      <th>health/wellbeing</th>\n",
       "      <th>sports/recreation</th>\n",
       "      <th>movements/politics</th>\n",
       "      <th>tech</th>\n",
       "      <th>language/ethnic identity</th>\n",
       "      <th>dancing</th>\n",
       "      <th>new age/spirituality</th>\n",
       "      <th>sci-fi/fantasy</th>\n",
       "      <th>writing</th>\n",
       "      <th>...</th>\n",
       "      <th>education/learning</th>\n",
       "      <th>parents/family</th>\n",
       "      <th>fine arts/culture</th>\n",
       "      <th>book clubs</th>\n",
       "      <th>support</th>\n",
       "      <th>religion/beliefs</th>\n",
       "      <th>hobbies/crafts</th>\n",
       "      <th>cars/motorcycles</th>\n",
       "      <th>paranormal</th>\n",
       "      <th>nan</th>\n",
       "    </tr>\n",
       "  </thead>\n",
       "  <tbody>\n",
       "    <tr>\n",
       "      <th>pets/animals</th>\n",
       "      <td>-</td>\n",
       "      <td>12</td>\n",
       "      <td>10</td>\n",
       "      <td>7</td>\n",
       "      <td>20</td>\n",
       "      <td>11</td>\n",
       "      <td>6</td>\n",
       "      <td>10</td>\n",
       "      <td>4</td>\n",
       "      <td>4</td>\n",
       "      <td>...</td>\n",
       "      <td>9</td>\n",
       "      <td>6</td>\n",
       "      <td>7</td>\n",
       "      <td>4</td>\n",
       "      <td>9</td>\n",
       "      <td>4</td>\n",
       "      <td>3</td>\n",
       "      <td>1</td>\n",
       "      <td>-</td>\n",
       "      <td>-</td>\n",
       "    </tr>\n",
       "    <tr>\n",
       "      <th>health/wellbeing</th>\n",
       "      <td>-</td>\n",
       "      <td>-</td>\n",
       "      <td>28</td>\n",
       "      <td>15</td>\n",
       "      <td>57</td>\n",
       "      <td>27</td>\n",
       "      <td>14</td>\n",
       "      <td>31</td>\n",
       "      <td>6</td>\n",
       "      <td>10</td>\n",
       "      <td>...</td>\n",
       "      <td>23</td>\n",
       "      <td>15</td>\n",
       "      <td>23</td>\n",
       "      <td>8</td>\n",
       "      <td>21</td>\n",
       "      <td>19</td>\n",
       "      <td>10</td>\n",
       "      <td>8</td>\n",
       "      <td>1</td>\n",
       "      <td>-</td>\n",
       "    </tr>\n",
       "    <tr>\n",
       "      <th>sports/recreation</th>\n",
       "      <td>-</td>\n",
       "      <td>-</td>\n",
       "      <td>-</td>\n",
       "      <td>12</td>\n",
       "      <td>48</td>\n",
       "      <td>28</td>\n",
       "      <td>14</td>\n",
       "      <td>31</td>\n",
       "      <td>8</td>\n",
       "      <td>9</td>\n",
       "      <td>...</td>\n",
       "      <td>15</td>\n",
       "      <td>12</td>\n",
       "      <td>17</td>\n",
       "      <td>5</td>\n",
       "      <td>17</td>\n",
       "      <td>14</td>\n",
       "      <td>8</td>\n",
       "      <td>3</td>\n",
       "      <td>1</td>\n",
       "      <td>-</td>\n",
       "    </tr>\n",
       "    <tr>\n",
       "      <th>movements/politics</th>\n",
       "      <td>-</td>\n",
       "      <td>-</td>\n",
       "      <td>-</td>\n",
       "      <td>-</td>\n",
       "      <td>25</td>\n",
       "      <td>17</td>\n",
       "      <td>9</td>\n",
       "      <td>13</td>\n",
       "      <td>5</td>\n",
       "      <td>3</td>\n",
       "      <td>...</td>\n",
       "      <td>16</td>\n",
       "      <td>6</td>\n",
       "      <td>10</td>\n",
       "      <td>7</td>\n",
       "      <td>10</td>\n",
       "      <td>9</td>\n",
       "      <td>5</td>\n",
       "      <td>5</td>\n",
       "      <td>-</td>\n",
       "      <td>-</td>\n",
       "    </tr>\n",
       "    <tr>\n",
       "      <th>tech</th>\n",
       "      <td>-</td>\n",
       "      <td>-</td>\n",
       "      <td>-</td>\n",
       "      <td>-</td>\n",
       "      <td>-</td>\n",
       "      <td>49</td>\n",
       "      <td>25</td>\n",
       "      <td>50</td>\n",
       "      <td>8</td>\n",
       "      <td>22</td>\n",
       "      <td>...</td>\n",
       "      <td>41</td>\n",
       "      <td>28</td>\n",
       "      <td>33</td>\n",
       "      <td>17</td>\n",
       "      <td>36</td>\n",
       "      <td>27</td>\n",
       "      <td>19</td>\n",
       "      <td>9</td>\n",
       "      <td>2</td>\n",
       "      <td>-</td>\n",
       "    </tr>\n",
       "  </tbody>\n",
       "</table>\n",
       "<p>5 rows × 34 columns</p>\n",
       "</div>"
      ],
      "text/plain": [
       "                   pets/animals health/wellbeing sports/recreation  \\\n",
       "pets/animals                  -               12                10   \n",
       "health/wellbeing              -                -                28   \n",
       "sports/recreation             -                -                 -   \n",
       "movements/politics            -                -                 -   \n",
       "tech                          -                -                 -   \n",
       "\n",
       "                   movements/politics tech language/ethnic identity dancing  \\\n",
       "pets/animals                        7   20                       11       6   \n",
       "health/wellbeing                   15   57                       27      14   \n",
       "sports/recreation                  12   48                       28      14   \n",
       "movements/politics                  -   25                       17       9   \n",
       "tech                                -    -                       49      25   \n",
       "\n",
       "                   new age/spirituality sci-fi/fantasy writing ...  \\\n",
       "pets/animals                         10              4       4 ...   \n",
       "health/wellbeing                     31              6      10 ...   \n",
       "sports/recreation                    31              8       9 ...   \n",
       "movements/politics                   13              5       3 ...   \n",
       "tech                                 50              8      22 ...   \n",
       "\n",
       "                   education/learning parents/family fine arts/culture  \\\n",
       "pets/animals                        9              6                 7   \n",
       "health/wellbeing                   23             15                23   \n",
       "sports/recreation                  15             12                17   \n",
       "movements/politics                 16              6                10   \n",
       "tech                               41             28                33   \n",
       "\n",
       "                   book clubs support religion/beliefs hobbies/crafts  \\\n",
       "pets/animals                4       9                4              3   \n",
       "health/wellbeing            8      21               19             10   \n",
       "sports/recreation           5      17               14              8   \n",
       "movements/politics          7      10                9              5   \n",
       "tech                       17      36               27             19   \n",
       "\n",
       "                   cars/motorcycles paranormal NaN  \n",
       "pets/animals                      1          -   -  \n",
       "health/wellbeing                  8          1   -  \n",
       "sports/recreation                 3          1   -  \n",
       "movements/politics                5          -   -  \n",
       "tech                              9          2   -  \n",
       "\n",
       "[5 rows x 34 columns]"
      ]
     },
     "execution_count": 71,
     "metadata": {},
     "output_type": "execute_result"
    }
   ],
   "source": [
    "df_chicago_coocurrence_new = df_chicago_coocurrence.replace(0,'-')\n",
    "df_chicago_coocurrence_new.head()"
   ]
  },
  {
   "cell_type": "code",
   "execution_count": 72,
   "metadata": {},
   "outputs": [],
   "source": [
    "# Export CSV for chord diagram\n",
    "df_chicago_coocurrence_new.to_csv('Chicago_graph_3.csv')"
   ]
  },
  {
   "cell_type": "markdown",
   "metadata": {},
   "source": [
    "### Chord Diagram of Category Relationships\n",
    "\n",
    "The chord diagram acts as a pie chart and a network diagram. We can evaluate both the standalone popularity of each category and how each category is popular within the other categories. This chart uses the number of members that subscribe to a group in each category.\n",
    "\n",
    "<img src=\"./images/category_chord_diagram.png\" />\n",
    "\n",
    "We see again that tech dominates the interest but there are many related categories such as health/wellbeing, career/business, socializing. These categories are highly correlated meaning they share many of the same members. Also, career/business has many shared members with health/wellbeing indicating that having a job may be stressful and require people to take care of themselves outside work."
   ]
  }
 ],
 "metadata": {
  "kernelspec": {
   "display_name": "Python 3",
   "language": "python",
   "name": "python3"
  },
  "language_info": {
   "codemirror_mode": {
    "name": "ipython",
    "version": 3
   },
   "file_extension": ".py",
   "mimetype": "text/x-python",
   "name": "python",
   "nbconvert_exporter": "python",
   "pygments_lexer": "ipython3",
   "version": "3.6.6"
  }
 },
 "nbformat": 4,
 "nbformat_minor": 2
}
